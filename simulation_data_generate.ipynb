{
 "cells": [
  {
   "cell_type": "markdown",
   "metadata": {},
   "source": [
    "## 1.데이터 생성"
   ]
  },
  {
   "cell_type": "code",
   "execution_count": 1,
   "metadata": {},
   "outputs": [
    {
     "name": "stdout",
     "output_type": "stream",
     "text": [
      "X1 shape = (31746, 16)\n",
      "X2 shape = (31746, 8)\n"
     ]
    }
   ],
   "source": [
    "from sklearn.datasets import make_classification\n",
    "import pandas as pd\n",
    "import numpy as np\n",
    "\n",
    "X1, y1 = make_classification(n_samples=int(20000/ 0.7 / 0.9), n_features=16, n_informative=16, n_redundant=0,  n_classes=2, weights=[0.9,0.1], random_state=0)\n",
    "X2, y2 = make_classification(n_samples=int(20000/ 0.7 / 0.9), n_features=8, n_informative=8, n_redundant=0,  n_classes=2, weights=[0.9,0.1], random_state=0)\n",
    "\n",
    "print(f'X1 shape = {X1.shape}')\n",
    "print(f'X2 shape = {X2.shape}')"
   ]
  },
  {
   "cell_type": "code",
   "execution_count": 2,
   "metadata": {},
   "outputs": [],
   "source": [
    "import copy\n",
    "\n",
    "def contamination(X, y, ratio, weight):\n",
    "    tmp_df = pd.DataFrame(X)\n",
    "    tmp_df['label'] = y\n",
    "    normal = tmp_df.loc[tmp_df['label'] == 0, :].reset_index(drop=True)\n",
    "    abnormal = tmp_df.loc[tmp_df['label'] == 1, :].reset_index(drop=True)\n",
    "    \n",
    "    normal_idx = np.arange(len(normal))\n",
    "    abnormal_idx = np.arange(len(abnormal))\n",
    "    num_contamination = int(ratio * len(abnormal))\n",
    "    \n",
    "    np.random.seed(0)\n",
    "    normal_idx = np.random.choice(normal_idx, size=num_contamination, replace=False)\n",
    "    abnormal_idx = np.random.choice(abnormal_idx, size=num_contamination, replace=False)\n",
    "    \n",
    "    normal.iloc[normal_idx, :-1] = copy.deepcopy(normal.iloc[normal_idx, :-1].values * (1 - weight))  + copy.deepcopy(abnormal.iloc[abnormal_idx, :-1].values * weight)\n",
    "    result_df = pd.concat([normal, abnormal]).reset_index(drop=True)\n",
    "    return num_contamination, result_df, normal_idx"
   ]
  },
  {
   "cell_type": "code",
   "execution_count": 3,
   "metadata": {},
   "outputs": [],
   "source": [
    "import pickle\n",
    "\n",
    "# # # save\n",
    "# # with open('data.pickle', 'wb') as f:\n",
    "# #     pickle.dump(data, f, pickle.HIGHEST_PROTOCOL)\n",
    "\n",
    "# # # load\n",
    "# # with open('data.pickle', 'rb') as f:\n",
    "# #     data = pickle.load(f)"
   ]
  },
  {
   "cell_type": "code",
   "execution_count": 6,
   "metadata": {},
   "outputs": [
    {
     "name": "stdout",
     "output_type": "stream",
     "text": [
      "noise ratio : 0.07, noise weight : 0.1, train noise ratio = 0.012\n",
      "noise ratio : 0.07, noise weight : 0.5, train noise ratio = 0.012\n",
      "noise ratio : 0.07, noise weight : 0.9, train noise ratio = 0.012\n",
      "noise ratio : 0.7, noise weight : 0.1, train noise ratio = 0.115\n",
      "noise ratio : 0.7, noise weight : 0.5, train noise ratio = 0.115\n",
      "noise ratio : 0.7, noise weight : 0.9, train noise ratio = 0.115\n"
     ]
    }
   ],
   "source": [
    "normal_df1 = pd.DataFrame(X1)\n",
    "normal_df1['label'] = y1\n",
    "normal_df1.to_csv('./sim_data/normal1.csv', index=False)\n",
    "\n",
    "for ratio in [0.07, 0.7]:\n",
    "    for weight in [0.1, 0.5, 0.9]:\n",
    "\n",
    "        X = X1.copy()\n",
    "        y = y2.copy()\n",
    "        num_dirty_1, dirty_df_1, choice_idx_1 = contamination(X, y, ratio, weight) # noise는 train, valid 모두에 들어가있다.\n",
    "        train_noise = num_dirty_1  / (X1.shape[0] * 0.9 * 0.7)\n",
    "\n",
    "        print(f'noise ratio : {ratio}, noise weight : {weight}, train noise ratio = {train_noise:.3f}')\n",
    "        \n",
    "        if ratio == 0.07:\n",
    "            _ratio = '001'\n",
    "        else:\n",
    "            _ratio = '010'\n",
    "            \n",
    "        if weight == 0.1:\n",
    "            _weight = '01'\n",
    "        elif weight == 0.5:\n",
    "            _weight = '05'\n",
    "        else:\n",
    "            _weight = '09'\n",
    "            \n",
    "        dirty_df_1.to_csv('./sim_data/df1_' + _ratio + '_' + _weight + '.csv', index=False)\n",
    "        \n",
    "        with open('./sim_data/noise_idx1_' + _ratio + '_' + _weight + '.pickle', 'wb') as f:\n",
    "            pickle.dump(choice_idx_1, f, pickle.HIGHEST_PROTOCOL)"
   ]
  },
  {
   "cell_type": "code",
   "execution_count": 5,
   "metadata": {},
   "outputs": [
    {
     "name": "stdout",
     "output_type": "stream",
     "text": [
      "noise ratio : 0.07, noise weight : 0.1, train noise ratio = 0.012\n",
      "noise ratio : 0.07, noise weight : 0.5, train noise ratio = 0.012\n",
      "noise ratio : 0.07, noise weight : 0.9, train noise ratio = 0.012\n",
      "noise ratio : 0.7, noise weight : 0.1, train noise ratio = 0.115\n",
      "noise ratio : 0.7, noise weight : 0.5, train noise ratio = 0.115\n",
      "noise ratio : 0.7, noise weight : 0.9, train noise ratio = 0.115\n"
     ]
    }
   ],
   "source": [
    "normal_df2 = pd.DataFrame(X2)\n",
    "normal_df2['label'] = y2\n",
    "normal_df2.to_csv('./sim_data/normal2.csv', index=False)\n",
    "\n",
    "for ratio in [0.07, 0.7]:\n",
    "    for weight in [0.1, 0.5, 0.9]:\n",
    "\n",
    "        num_dirty_2, dirty_df_2, choice_idx_2 = contamination(X2, y2, ratio, weight) # noise는 train, valid 모두에 들어가있다.\n",
    "        train_noise = num_dirty_2  / (X2.shape[0] * 0.9 * 0.7)\n",
    "\n",
    "        print(f'noise ratio : {ratio}, noise weight : {weight}, train noise ratio = {train_noise:.3f}')\n",
    "        \n",
    "        if ratio == 0.07:\n",
    "            _ratio = '001'\n",
    "        else:\n",
    "            _ratio = '010'\n",
    "            \n",
    "        if weight == 0.1:\n",
    "            _weight = '01'\n",
    "        elif weight == 0.5:\n",
    "            _weight = '05'\n",
    "        else:\n",
    "            _weight = '09'\n",
    "            \n",
    "        dirty_df_1.to_csv('./sim_data/df2_' + _ratio + '_' + _weight + '.csv', index=False)\n",
    "        \n",
    "        with open('./sim_data/noise_idx2_' + _ratio + '_' + _weight + '.pickle', 'wb') as f:\n",
    "            pickle.dump(choice_idx_2, f, pickle.HIGHEST_PROTOCOL)"
   ]
  }
 ],
 "metadata": {
  "interpreter": {
   "hash": "4829241e38f97ce9549fd9dd142f37034ca40da852944784ae6a4626739d5593"
  },
  "kernelspec": {
   "display_name": "Python 3.8.3 64-bit ('pytorch': conda)",
   "language": "python",
   "name": "python3"
  },
  "language_info": {
   "codemirror_mode": {
    "name": "ipython",
    "version": 3
   },
   "file_extension": ".py",
   "mimetype": "text/x-python",
   "name": "python",
   "nbconvert_exporter": "python",
   "pygments_lexer": "ipython3",
   "version": "3.8.3"
  },
  "orig_nbformat": 4
 },
 "nbformat": 4,
 "nbformat_minor": 2
}
