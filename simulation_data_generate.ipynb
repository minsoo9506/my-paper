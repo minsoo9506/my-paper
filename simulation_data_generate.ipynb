{
 "cells": [
  {
   "cell_type": "markdown",
   "metadata": {},
   "source": [
    "## 1.데이터 생성"
   ]
  },
  {
   "cell_type": "code",
   "execution_count": 2,
   "metadata": {},
   "outputs": [],
   "source": [
    "from sklearn.datasets import make_classification\n",
    "import pandas as pd\n",
    "import numpy as np\n",
    "import pickle"
   ]
  },
  {
   "cell_type": "code",
   "execution_count": 3,
   "metadata": {},
   "outputs": [
    {
     "name": "stdout",
     "output_type": "stream",
     "text": [
      "X1 shape = (31746, 16)\n",
      "X2 shape = (126984, 16)\n"
     ]
    }
   ],
   "source": [
    "X1, y1 = make_classification(n_samples=int(20000/ 0.7 / 0.9), n_features=16, n_informative=16, n_redundant=0,  n_classes=2, weights=[0.9,0.1], random_state=0)\n",
    "X2, y2 = make_classification(n_samples=int(80000/ 0.7 / 0.9), n_features=16, n_informative=16, n_redundant=0,  n_classes=2, weights=[0.9,0.1], random_state=0)\n",
    "\n",
    "print(f'X1 shape = {X1.shape}')\n",
    "print(f'X2 shape = {X2.shape}')"
   ]
  },
  {
   "cell_type": "code",
   "execution_count": 4,
   "metadata": {},
   "outputs": [],
   "source": [
    "import copy\n",
    "\n",
    "def contamination(X, y, ratio, weight, is_train):\n",
    "    tmp_df = pd.DataFrame(X)\n",
    "    tmp_df['label'] = y\n",
    "    normal = tmp_df.loc[tmp_df['label'] == 0, :].reset_index(drop=True)\n",
    "    abnormal = tmp_df.loc[tmp_df['label'] == 1, :].reset_index(drop=True)\n",
    "    \n",
    "    normal_idx = np.arange(len(normal))\n",
    "    abnormal_idx = np.arange(len(abnormal))\n",
    "    num_contamination = int(ratio * len(abnormal))\n",
    "    \n",
    "    np.random.seed(0)\n",
    "    normal_idx = np.random.choice(normal_idx, size=num_contamination, replace=False)\n",
    "    abnormal_idx = np.random.choice(abnormal_idx, size=num_contamination, replace=False)\n",
    "    \n",
    "    if is_train:\n",
    "        normal.iloc[normal_idx, :-1] = copy.deepcopy(normal.iloc[normal_idx, :-1].values * (1 - weight))  + copy.deepcopy(abnormal.iloc[abnormal_idx, :-1].values * weight)\n",
    "        noise_idx = normal_idx\n",
    "    else:\n",
    "        abnormal.iloc[abnormal_idx, :-1] = copy.deepcopy(normal.iloc[normal_idx, :-1].values * weight)  + copy.deepcopy(abnormal.iloc[abnormal_idx, :-1].values * (1 - weight))\n",
    "        noise_idx = abnormal_idx\n",
    "        \n",
    "    result_df = pd.concat([normal, abnormal]).reset_index(drop=True)\n",
    "    \n",
    "    return num_contamination, result_df, noise_idx"
   ]
  },
  {
   "cell_type": "code",
   "execution_count": 3,
   "metadata": {},
   "outputs": [],
   "source": [
    "# # # save\n",
    "# # with open('data.pickle', 'wb') as f:\n",
    "# #     pickle.dump(data, f, pickle.HIGHEST_PROTOCOL)\n",
    "\n",
    "# # # load\n",
    "# # with open('data.pickle', 'rb') as f:\n",
    "# #     data = pickle.load(f)"
   ]
  },
  {
   "cell_type": "markdown",
   "metadata": {},
   "source": [
    "## 1. train에 noise가 있는 경우\n",
    "- noise_weight = [0.1, 0.5, 0.9]\n",
    "- noise_ratio = [0.01, 0.1]\n",
    "- col=16, row=[2만, 8만]"
   ]
  },
  {
   "cell_type": "code",
   "execution_count": 5,
   "metadata": {},
   "outputs": [
    {
     "name": "stdout",
     "output_type": "stream",
     "text": [
      "noise weight : 0.1, train noise ratio = 0.012\n",
      "noise weight : 0.5, train noise ratio = 0.012\n",
      "noise weight : 0.9, train noise ratio = 0.012\n",
      "noise weight : 0.1, train noise ratio = 0.115\n",
      "noise weight : 0.5, train noise ratio = 0.115\n",
      "noise weight : 0.9, train noise ratio = 0.115\n"
     ]
    }
   ],
   "source": [
    "normal_df1 = pd.DataFrame(X1)\n",
    "normal_df1['label'] = y1\n",
    "normal_df1.to_csv('./sim_data/smallNormal.csv', index=False)\n",
    "\n",
    "for ratio in [0.07, 0.7]:\n",
    "    for weight in [0.1, 0.5, 0.9]:\n",
    "\n",
    "        num_dirty_1, dirty_df_1, choice_idx_1 = contamination(X1, y1, ratio, weight, True) # noise는 train, valid 모두에 들어가있다.\n",
    "        train_noise = num_dirty_1  / (X1.shape[0] * 0.9 * 0.7)\n",
    "\n",
    "        print(f'noise weight : {weight}, train noise ratio = {train_noise:.3f}')\n",
    "        \n",
    "        if ratio == 0.07:\n",
    "            _ratio = '001'\n",
    "        else:\n",
    "            _ratio = '010'\n",
    "            \n",
    "        if weight == 0.1:\n",
    "            _weight = '01'\n",
    "        elif weight == 0.5:\n",
    "            _weight = '05'\n",
    "        else:\n",
    "            _weight = '09'\n",
    "            \n",
    "        dirty_df_1.to_csv('./sim_data/smallTrainNoise_' + _ratio + '_' + _weight + '.csv', index=False)\n",
    "        \n",
    "        with open('./sim_data/smallTrainNoise_' + _ratio + '_' + _weight + '.pickle', 'wb') as f:\n",
    "            pickle.dump(choice_idx_1, f, pickle.HIGHEST_PROTOCOL)"
   ]
  },
  {
   "cell_type": "code",
   "execution_count": 6,
   "metadata": {},
   "outputs": [
    {
     "name": "stdout",
     "output_type": "stream",
     "text": [
      "noise weight : 0.1, train noise ratio = 0.012\n",
      "noise weight : 0.5, train noise ratio = 0.012\n",
      "noise weight : 0.9, train noise ratio = 0.012\n",
      "noise weight : 0.1, train noise ratio = 0.115\n",
      "noise weight : 0.5, train noise ratio = 0.115\n",
      "noise weight : 0.9, train noise ratio = 0.115\n"
     ]
    }
   ],
   "source": [
    "normal_df2 = pd.DataFrame(X2)\n",
    "normal_df2['label'] = y2\n",
    "normal_df2.to_csv('./sim_data/bigNormal.csv', index=False)\n",
    "\n",
    "for ratio in [0.07, 0.7]:\n",
    "    for weight in [0.1, 0.5, 0.9]:\n",
    "\n",
    "        num_dirty_2, dirty_df_2, choice_idx_2 = contamination(X2, y2, ratio, weight, True) # noise는 train, valid 모두에 들어가있다.\n",
    "        train_noise = num_dirty_2  / (X2.shape[0] * 0.9 * 0.7)\n",
    "\n",
    "        print(f'noise weight : {weight}, train noise ratio = {train_noise:.3f}')\n",
    "        \n",
    "        if ratio == 0.07:\n",
    "            _ratio = '001'\n",
    "        else:\n",
    "            _ratio = '010'\n",
    "            \n",
    "        if weight == 0.1:\n",
    "            _weight = '01'\n",
    "        elif weight == 0.5:\n",
    "            _weight = '05'\n",
    "        else:\n",
    "            _weight = '09'\n",
    "            \n",
    "        dirty_df_2.to_csv('./sim_data/bigTrainNoise_' + _ratio + '_' + _weight + '.csv', index=False)\n",
    "        \n",
    "        with open('./sim_data/bigTrainNoise_' + _ratio + '_' + _weight + '.pickle', 'wb') as f:\n",
    "            pickle.dump(choice_idx_2, f, pickle.HIGHEST_PROTOCOL)"
   ]
  },
  {
   "cell_type": "markdown",
   "metadata": {},
   "source": [
    "## 2. test에 noise가 있는 경우\n",
    "- test abnormal이 normal과 가까운 경우를 의미\n",
    "- noise_weight = [0.1, 0.5, 0.9]\n",
    "- noise_ratio = [0.1]\n",
    "- col=16, row=[2만, 8만]"
   ]
  },
  {
   "cell_type": "code",
   "execution_count": 8,
   "metadata": {},
   "outputs": [
    {
     "name": "stdout",
     "output_type": "stream",
     "text": [
      "noise weight : 0.1, test noise ratio = 0.104\n",
      "noise weight : 0.5, test noise ratio = 0.104\n",
      "noise weight : 0.9, test noise ratio = 0.104\n"
     ]
    }
   ],
   "source": [
    "for ratio in [0.1]:\n",
    "    for weight in [0.1, 0.5, 0.9]:\n",
    "\n",
    "        num_dirty_1, dirty_df_1, choice_idx_1 = contamination(X1, y1, ratio, weight, False) # noise는 train, valid 모두에 들어가있다.\n",
    "        test_noise = num_dirty_1  / (X1.shape[0] * 0.1)\n",
    "\n",
    "        print(f'noise weight : {weight}, test noise ratio = {test_noise:.3f}')\n",
    "        \n",
    "        if ratio == 0.07:\n",
    "            _ratio = '001'\n",
    "        else:\n",
    "            _ratio = '010'\n",
    "            \n",
    "        if weight == 0.1:\n",
    "            _weight = '01'\n",
    "        elif weight == 0.5:\n",
    "            _weight = '05'\n",
    "        else:\n",
    "            _weight = '09'\n",
    "            \n",
    "        dirty_df_1.to_csv('./sim_data/smallTestNoise_' + _ratio + '_' + _weight + '.csv', index=False)\n",
    "        \n",
    "        with open('./sim_data/smallTestNoise_' + _ratio + '_' + _weight + '.pickle', 'wb') as f:\n",
    "            pickle.dump(choice_idx_1, f, pickle.HIGHEST_PROTOCOL)"
   ]
  },
  {
   "cell_type": "code",
   "execution_count": 9,
   "metadata": {},
   "outputs": [
    {
     "name": "stdout",
     "output_type": "stream",
     "text": [
      "noise weight : 0.1, test noise ratio = 0.104\n",
      "noise weight : 0.5, test noise ratio = 0.104\n",
      "noise weight : 0.9, test noise ratio = 0.104\n"
     ]
    }
   ],
   "source": [
    "for ratio in [0.1]:\n",
    "    for weight in [0.1, 0.5, 0.9]:\n",
    "        \n",
    "        num_dirty_2, dirty_df_2, choice_idx_2 = contamination(X2, y2, ratio, weight, False) # noise는 train, valid 모두에 들어가있다.\n",
    "        test_noise = num_dirty_2  / (X2.shape[0] * 0.1)\n",
    "\n",
    "        print(f'noise weight : {weight}, test noise ratio = {test_noise:.3f}')\n",
    "        \n",
    "        if ratio == 0.07:\n",
    "            _ratio = '001'\n",
    "        else:\n",
    "            _ratio = '010'\n",
    "            \n",
    "        if weight == 0.1:\n",
    "            _weight = '01'\n",
    "        elif weight == 0.5:\n",
    "            _weight = '05'\n",
    "        else:\n",
    "            _weight = '09'\n",
    "            \n",
    "        dirty_df_2.to_csv('./sim_data/bigTestNoise_' + _ratio + '_' + _weight + '.csv', index=False)\n",
    "        \n",
    "        with open('./sim_data/bigTestNoise_' + _ratio + '_' + _weight + '.pickle', 'wb') as f:\n",
    "            pickle.dump(choice_idx_2, f, pickle.HIGHEST_PROTOCOL)"
   ]
  },
  {
   "cell_type": "markdown",
   "metadata": {},
   "source": [
    "# Data generation validation"
   ]
  },
  {
   "cell_type": "code",
   "execution_count": 11,
   "metadata": {},
   "outputs": [],
   "source": [
    "smallNormal = pd.read_csv('./sim_data/smallNormal.csv')\n",
    "smallTrainNoise_010_09 = pd.read_csv('./sim_data/smallTrainNoise_010_09.csv')\n",
    "smallTestNoise_010_09 = pd.read_csv('./sim_data/smallTestNoise_010_09.csv')"
   ]
  },
  {
   "cell_type": "code",
   "execution_count": 15,
   "metadata": {},
   "outputs": [
    {
     "data": {
      "text/plain": [
       "<matplotlib.axes._subplots.AxesSubplot at 0x2113e6f1f10>"
      ]
     },
     "execution_count": 15,
     "metadata": {},
     "output_type": "execute_result"
    },
    {
     "data": {
      "image/png": "[encoded data removed]",
      "text/plain": [
       "<Figure size 432x288 with 1 Axes>"
      ]
     },
     "metadata": {
      "needs_background": "light"
     },
     "output_type": "display_data"
    }
   ],
   "source": [
    "smallNormal.loc[smallNormal['label'] == 0, :].mean().plot()\n",
    "smallTrainNoise_010_09.loc[smallTrainNoise_010_09['label'] == 0, :].mean().plot()"
   ]
  },
  {
   "cell_type": "code",
   "execution_count": 16,
   "metadata": {},
   "outputs": [
    {
     "data": {
      "text/plain": [
       "<matplotlib.axes._subplots.AxesSubplot at 0x2113e778c40>"
      ]
     },
     "execution_count": 16,
     "metadata": {},
     "output_type": "execute_result"
    },
    {
     "data": {
      "image/png": "[encoded data removed]",
      "text/plain": [
       "<Figure size 432x288 with 1 Axes>"
      ]
     },
     "metadata": {
      "needs_background": "light"
     },
     "output_type": "display_data"
    }
   ],
   "source": [
    "smallNormal.loc[smallNormal['label'] == 1, :].mean().plot()\n",
    "smallTestNoise_010_09.loc[smallTestNoise_010_09['label'] == 1, :].mean().plot()"
   ]
  }
 ],
 "metadata": {
  "interpreter": {
   "hash": "4829241e38f97ce9549fd9dd142f37034ca40da852944784ae6a4626739d5593"
  },
  "kernelspec": {
   "display_name": "Python 3.8.3 64-bit ('pytorch': conda)",
   "language": "python",
   "name": "python3"
  },
  "language_info": {
   "codemirror_mode": {
    "name": "ipython",
    "version": 3
   },
   "file_extension": ".py",
   "mimetype": "text/x-python",
   "name": "python",
   "nbconvert_exporter": "python",
   "pygments_lexer": "ipython3",
   "version": "3.8.3"
  },
  "orig_nbformat": 4
 },
 "nbformat": 4,
 "nbformat_minor": 2
}
