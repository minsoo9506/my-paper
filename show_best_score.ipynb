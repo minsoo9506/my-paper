{
 "cells": [
  {
   "cell_type": "code",
   "execution_count": 4,
   "metadata": {},
   "outputs": [],
   "source": [
    "import pandas as pd\n",
    "import matplotlib.pyplot as plt"
   ]
  },
  {
   "cell_type": "code",
   "execution_count": 33,
   "metadata": {},
   "outputs": [
    {
     "data": {
      "text/plain": [
       "['best_score_result_005_UCR_Anomaly_DISTORTEDCIMIS44AirTemperature1_4000_5391_5392.csv',\n",
       " 'best_score_result_011_UCR_Anomaly_DISTORTEDECG1_10000_11800_12100.csv',\n",
       " 'best_score_result_019_UCR_Anomaly_DISTORTEDGP711MarkerLFM5z1_5000_6168_6212.csv',\n",
       " 'best_score_result_024_UCR_Anomaly_DISTORTEDInternalBleeding10_3200_4526_4556.csv',\n",
       " 'best_score_result_048_UCR_Anomaly_DISTORTEDTkeepFifthMARS_3500_5988_6085.csv',\n",
       " 'best_score_result_065_UCR_Anomaly_DISTORTEDinsectEPG1_3000_7000_7030.csv',\n",
       " 'best_score_result_074_UCR_Anomaly_DISTORTEDqtdbSel1005V_4000_12400_12800.csv',\n",
       " 'best_score_result_094_UCR_Anomaly_NOISEBIDMC1_2500_5400_5600.csv',\n",
       " 'best_score_result_112_UCR_Anomaly_BIDMC1_2500_5400_5600.csv',\n",
       " 'best_score_result_140_UCR_Anomaly_InternalBleeding4_1000_4675_5033.csv',\n",
       " 'best_score_result_156_UCR_Anomaly_TkeepFifthMARS_3500_5988_6085.csv']"
      ]
     },
     "execution_count": 33,
     "metadata": {},
     "output_type": "execute_result"
    }
   ],
   "source": [
    "import os\n",
    "\n",
    "PATH = './best_score/'\n",
    "file_list = os.listdir(PATH)\n",
    "file_list_py = [file for file in file_list if file.endswith('.csv')]\n",
    "file_list_py"
   ]
  },
  {
   "cell_type": "code",
   "execution_count": 34,
   "metadata": {},
   "outputs": [
    {
     "data": {
      "text/html": [
       "<div>\n",
       "<style scoped>\n",
       "    .dataframe tbody tr th:only-of-type {\n",
       "        vertical-align: middle;\n",
       "    }\n",
       "\n",
       "    .dataframe tbody tr th {\n",
       "        vertical-align: top;\n",
       "    }\n",
       "\n",
       "    .dataframe thead th {\n",
       "        text-align: right;\n",
       "    }\n",
       "</style>\n",
       "<table border=\"1\" class=\"dataframe\">\n",
       "  <thead>\n",
       "    <tr style=\"text-align: right;\">\n",
       "      <th></th>\n",
       "      <th>hidden_size</th>\n",
       "      <th>Base_accuracy</th>\n",
       "      <th>New_accuracy</th>\n",
       "      <th>Base_roc_auc</th>\n",
       "      <th>New_roc_auc</th>\n",
       "      <th>Base_pr_auc</th>\n",
       "      <th>New_pr_auc</th>\n",
       "      <th>Base_precision</th>\n",
       "      <th>New_precision</th>\n",
       "      <th>Base_recall</th>\n",
       "      <th>New_recall</th>\n",
       "      <th>Base_f1_score</th>\n",
       "      <th>New_f1_score</th>\n",
       "    </tr>\n",
       "  </thead>\n",
       "  <tbody>\n",
       "    <tr>\n",
       "      <th>0</th>\n",
       "      <td>2</td>\n",
       "      <td>0.9725</td>\n",
       "      <td>0.9738</td>\n",
       "      <td>0.3676</td>\n",
       "      <td>0.5663</td>\n",
       "      <td>0.0372</td>\n",
       "      <td>0.0951</td>\n",
       "      <td>1.0000</td>\n",
       "      <td>1.0000</td>\n",
       "      <td>0.4977</td>\n",
       "      <td>0.5023</td>\n",
       "      <td>0.0469</td>\n",
       "      <td>0.1130</td>\n",
       "    </tr>\n",
       "    <tr>\n",
       "      <th>1</th>\n",
       "      <td>4</td>\n",
       "      <td>0.9721</td>\n",
       "      <td>0.9721</td>\n",
       "      <td>0.4028</td>\n",
       "      <td>0.5541</td>\n",
       "      <td>0.0331</td>\n",
       "      <td>0.0429</td>\n",
       "      <td>0.1361</td>\n",
       "      <td>0.1017</td>\n",
       "      <td>0.5668</td>\n",
       "      <td>0.4562</td>\n",
       "      <td>0.1192</td>\n",
       "      <td>0.0635</td>\n",
       "    </tr>\n",
       "    <tr>\n",
       "      <th>2</th>\n",
       "      <td>8</td>\n",
       "      <td>0.9709</td>\n",
       "      <td>0.9721</td>\n",
       "      <td>0.3491</td>\n",
       "      <td>0.6442</td>\n",
       "      <td>0.0197</td>\n",
       "      <td>0.0723</td>\n",
       "      <td>0.0194</td>\n",
       "      <td>0.3462</td>\n",
       "      <td>0.4839</td>\n",
       "      <td>0.5438</td>\n",
       "      <td>0.0374</td>\n",
       "      <td>0.0903</td>\n",
       "    </tr>\n",
       "  </tbody>\n",
       "</table>\n",
       "</div>"
      ],
      "text/plain": [
       "   hidden_size  Base_accuracy  New_accuracy  Base_roc_auc  New_roc_auc  \\\n",
       "0            2         0.9725        0.9738        0.3676       0.5663   \n",
       "1            4         0.9721        0.9721        0.4028       0.5541   \n",
       "2            8         0.9709        0.9721        0.3491       0.6442   \n",
       "\n",
       "   Base_pr_auc  New_pr_auc  Base_precision  New_precision  Base_recall  \\\n",
       "0       0.0372      0.0951          1.0000         1.0000       0.4977   \n",
       "1       0.0331      0.0429          0.1361         0.1017       0.5668   \n",
       "2       0.0197      0.0723          0.0194         0.3462       0.4839   \n",
       "\n",
       "   New_recall  Base_f1_score  New_f1_score  \n",
       "0      0.5023         0.0469        0.1130  \n",
       "1      0.4562         0.1192        0.0635  \n",
       "2      0.5438         0.0374        0.0903  "
      ]
     },
     "execution_count": 34,
     "metadata": {},
     "output_type": "execute_result"
    }
   ],
   "source": [
    "# 1 4 5 6 7 8 9 10\n",
    "df = pd.read_csv(PATH + file_list_py[10])\n",
    "df"
   ]
  },
  {
   "cell_type": "code",
   "execution_count": null,
   "metadata": {},
   "outputs": [],
   "source": []
  }
 ],
 "metadata": {
  "interpreter": {
   "hash": "4829241e38f97ce9549fd9dd142f37034ca40da852944784ae6a4626739d5593"
  },
  "kernelspec": {
   "display_name": "Python 3.8.3 64-bit ('pytorch': conda)",
   "language": "python",
   "name": "python3"
  },
  "language_info": {
   "codemirror_mode": {
    "name": "ipython",
    "version": 3
   },
   "file_extension": ".py",
   "mimetype": "text/x-python",
   "name": "python",
   "nbconvert_exporter": "python",
   "pygments_lexer": "ipython3",
   "version": "3.8.3"
  },
  "orig_nbformat": 4
 },
 "nbformat": 4,
 "nbformat_minor": 2
}
