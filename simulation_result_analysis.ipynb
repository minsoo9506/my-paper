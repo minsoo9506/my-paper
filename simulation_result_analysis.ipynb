{
 "cells": [
  {
   "cell_type": "code",
   "execution_count": 1,
   "metadata": {},
   "outputs": [],
   "source": [
    "import pandas as pd\n",
    "import numpy as np\n",
    "import matplotlib.pyplot as plt\n",
    "import seaborn as sns\n",
    "import os\n",
    "import pickle\n",
    "from sklearn.metrics import roc_auc_score, precision_recall_curve, auc"
   ]
  },
  {
   "cell_type": "markdown",
   "metadata": {},
   "source": [
    "# Ensemble"
   ]
  },
  {
   "cell_type": "code",
   "execution_count": 3,
   "metadata": {},
   "outputs": [],
   "source": [
    "from sklearn.preprocessing import StandardScaler\n",
    "from sklearn.model_selection import train_test_split\n",
    "\n",
    "def _normalize_tabular(df: pd.DataFrame, label_name: str = \"label\"):\n",
    "    scaler = StandardScaler()\n",
    "    X = scaler.fit_transform(df.drop(label_name, axis=1))\n",
    "    y = df[label_name]\n",
    "    return X, y\n",
    "\n",
    "def simul_split_train_valid_test(df: pd.DataFrame, train_ratio: float = 0.7):\n",
    "    X, y = _normalize_tabular(df)\n",
    "    tmp = pd.DataFrame(X)\n",
    "    tmp[\"label\"] = y\n",
    "    normal = tmp.loc[tmp[\"label\"] == 0, :].reset_index(drop=True)\n",
    "    abnormal = tmp.loc[tmp[\"label\"] == 1, :].reset_index(drop=True)\n",
    "    X_train, X_val_test, y_train, y_val_test = train_test_split(\n",
    "        normal.drop(\"label\", axis=1),\n",
    "        normal[\"label\"],\n",
    "        train_size=train_ratio,\n",
    "        random_state=42,\n",
    "        shuffle=False,\n",
    "    )\n",
    "    \n",
    "    X_val, X_test, y_val, y_test = train_test_split(\n",
    "        X_val_test, y_val_test, train_size=0.5, random_state=42, shuffle=False\n",
    "    )\n",
    "    X_test[\"label\"] = y_test\n",
    "    X_test = pd.concat([X_test, abnormal]).reset_index(drop=True)\n",
    "    return (\n",
    "        X_train.values,\n",
    "        X_val.values,\n",
    "        X_test.drop(\"label\", axis=1).values,\n",
    "        y_train.values,\n",
    "        y_val.values,\n",
    "        X_test[\"label\"].values,\n",
    "    )"
   ]
  },
  {
   "cell_type": "code",
   "execution_count": 4,
   "metadata": {},
   "outputs": [
    {
     "data": {
      "text/plain": [
       "['smallNormal.csv',\n",
       " 'smallTestNoise_010_01.csv',\n",
       " 'smallTestNoise_010_05.csv',\n",
       " 'smallTestNoise_010_09.csv',\n",
       " 'smallTrainNoise_001_01.csv',\n",
       " 'smallTrainNoise_001_05.csv',\n",
       " 'smallTrainNoise_001_09.csv',\n",
       " 'smallTrainNoise_010_01.csv',\n",
       " 'smallTrainNoise_010_05.csv',\n",
       " 'smallTrainNoise_010_09.csv']"
      ]
     },
     "execution_count": 4,
     "metadata": {},
     "output_type": "execute_result"
    }
   ],
   "source": [
    "[data for data in os.listdir('./sim_data') if ('small' in data) and ('.csv' in data)]"
   ]
  },
  {
   "cell_type": "code",
   "execution_count": 7,
   "metadata": {},
   "outputs": [],
   "source": [
    "def get_ensemble_result(PATH = './ensemble_sim_1/', name = 'smallNormal.csv', n_models=8):\n",
    "    data = pd.read_csv('./sim_data/'+ name)\n",
    "\n",
    "    (\n",
    "        _,\n",
    "        _,\n",
    "        _,\n",
    "        _,\n",
    "        _,\n",
    "        test_y,\n",
    "    ) = simul_split_train_valid_test(data, 0.7)\n",
    "\n",
    "    name = name.split('.')[0]\n",
    "\n",
    "    anomaly_score = np.zeros((len(test_y), n_models))\n",
    "\n",
    "    result_df = pd.DataFrame(columns=['mean','median','max','min'], index=['roc_auc','pr_auc'])\n",
    "\n",
    "\n",
    "    idx = 0\n",
    "    for data_name in os.listdir(PATH):\n",
    "        if name in data_name:\n",
    "            with open(PATH + data_name, 'rb') as f:\n",
    "                tmp = pickle.load(f)\n",
    "                anomaly_score[:, idx] = tmp\n",
    "                idx += 1\n",
    "\n",
    "    tst_ano_scr_med = np.median(anomaly_score, axis=1)\n",
    "    tst_ano_scr_mean = np.mean(anomaly_score, axis=1)\n",
    "    tst_ano_scr_max = np.max(anomaly_score, axis=1)\n",
    "    tst_ano_scr_min = np.min(anomaly_score, axis=1)\n",
    "\n",
    "    idx = 0\n",
    "    for tst_ano_scr in [tst_ano_scr_mean, tst_ano_scr_med, tst_ano_scr_max, tst_ano_scr_min]:\n",
    "        roc_auc = roc_auc_score(test_y, tst_ano_scr)\n",
    "        _precision, _recall, _ = precision_recall_curve(test_y, tst_ano_scr)\n",
    "        pr_auc = auc(_recall, _precision)\n",
    "        result_df.iloc[0, idx] = roc_auc\n",
    "        result_df.iloc[1, idx] = pr_auc\n",
    "        idx += 1\n",
    "\n",
    "    return result_df\n",
    "\n",
    "def get_ensemble_result_big(PATHs = ['./ensemble_sim_1/'], name = 'smallNormal.csv', n_models=8):\n",
    "    data = pd.read_csv('./sim_data/'+ name)\n",
    "\n",
    "    (\n",
    "        _,\n",
    "        _,\n",
    "        _,\n",
    "        _,\n",
    "        _,\n",
    "        test_y,\n",
    "    ) = simul_split_train_valid_test(data, 0.7)\n",
    "\n",
    "    name = name.split('.')[0]\n",
    "\n",
    "    anomaly_score = np.zeros((len(test_y), n_models * len(PATHs)))\n",
    "\n",
    "    result_df = pd.DataFrame(columns=['mean','median','max','min'], index=['roc_auc','pr_auc'])\n",
    "\n",
    "\n",
    "    idx = 0\n",
    "    for PATH in PATHs:\n",
    "        for data_name in os.listdir(PATH):\n",
    "            if name in data_name:\n",
    "                with open(PATH + data_name, 'rb') as f:\n",
    "                    tmp = pickle.load(f)\n",
    "                    anomaly_score[:, idx] = tmp\n",
    "                    idx += 1\n",
    "\n",
    "    tst_ano_scr_med = np.median(anomaly_score, axis=1)\n",
    "    tst_ano_scr_mean = np.mean(anomaly_score, axis=1)\n",
    "    tst_ano_scr_max = np.max(anomaly_score, axis=1)\n",
    "    tst_ano_scr_min = np.min(anomaly_score, axis=1)\n",
    "\n",
    "    idx = 0\n",
    "    for tst_ano_scr in [tst_ano_scr_mean, tst_ano_scr_med, tst_ano_scr_max, tst_ano_scr_min]:\n",
    "        roc_auc = roc_auc_score(test_y, tst_ano_scr)\n",
    "        _precision, _recall, _ = precision_recall_curve(test_y, tst_ano_scr)\n",
    "        pr_auc = auc(_recall, _precision)\n",
    "        result_df.iloc[0, idx] = roc_auc\n",
    "        result_df.iloc[1, idx] = pr_auc\n",
    "        idx += 1\n",
    "\n",
    "    return result_df"
   ]
  },
  {
   "cell_type": "code",
   "execution_count": 2,
   "metadata": {},
   "outputs": [
    {
     "data": {
      "text/plain": [
       "['smallNormal.csv',\n",
       " 'smallTestNoise_010_01.csv',\n",
       " 'smallTestNoise_010_05.csv',\n",
       " 'smallTestNoise_010_09.csv',\n",
       " 'smallTrainNoise_001_01.csv',\n",
       " 'smallTrainNoise_001_05.csv',\n",
       " 'smallTrainNoise_001_09.csv',\n",
       " 'smallTrainNoise_010_01.csv',\n",
       " 'smallTrainNoise_010_05.csv',\n",
       " 'smallTrainNoise_010_09.csv']"
      ]
     },
     "execution_count": 2,
     "metadata": {},
     "output_type": "execute_result"
    }
   ],
   "source": [
    "[data for data in os.listdir('./sim_data') if ('small' in data) and ('.csv' in data)]"
   ]
  },
  {
   "cell_type": "code",
   "execution_count": 32,
   "metadata": {},
   "outputs": [
    {
     "name": "stderr",
     "output_type": "stream",
     "text": [
      "<ipython-input-3-c9eb5218e970>:27: SettingWithCopyWarning: \n",
      "A value is trying to be set on a copy of a slice from a DataFrame.\n",
      "Try using .loc[row_indexer,col_indexer] = value instead\n",
      "\n",
      "See the caveats in the documentation: https://pandas.pydata.org/pandas-docs/stable/user_guide/indexing.html#returning-a-view-versus-a-copy\n",
      "  X_test[\"label\"] = y_test\n"
     ]
    },
    {
     "data": {
      "text/html": [
       "<div>\n",
       "<style scoped>\n",
       "    .dataframe tbody tr th:only-of-type {\n",
       "        vertical-align: middle;\n",
       "    }\n",
       "\n",
       "    .dataframe tbody tr th {\n",
       "        vertical-align: top;\n",
       "    }\n",
       "\n",
       "    .dataframe thead th {\n",
       "        text-align: right;\n",
       "    }\n",
       "</style>\n",
       "<table border=\"1\" class=\"dataframe\">\n",
       "  <thead>\n",
       "    <tr style=\"text-align: right;\">\n",
       "      <th></th>\n",
       "      <th>mean</th>\n",
       "      <th>median</th>\n",
       "      <th>max</th>\n",
       "      <th>min</th>\n",
       "    </tr>\n",
       "  </thead>\n",
       "  <tbody>\n",
       "    <tr>\n",
       "      <th>roc_auc</th>\n",
       "      <td>0.68781</td>\n",
       "      <td>0.688228</td>\n",
       "      <td>0.661948</td>\n",
       "      <td>0.722817</td>\n",
       "    </tr>\n",
       "    <tr>\n",
       "      <th>pr_auc</th>\n",
       "      <td>0.632819</td>\n",
       "      <td>0.63176</td>\n",
       "      <td>0.590396</td>\n",
       "      <td>0.68158</td>\n",
       "    </tr>\n",
       "  </tbody>\n",
       "</table>\n",
       "</div>"
      ],
      "text/plain": [
       "             mean    median       max       min\n",
       "roc_auc   0.68781  0.688228  0.661948  0.722817\n",
       "pr_auc   0.632819   0.63176  0.590396   0.68158"
      ]
     },
     "execution_count": 32,
     "metadata": {},
     "output_type": "execute_result"
    }
   ],
   "source": [
    "PATH = ['./ensemble_sim_1/', './ensemble_sim_2/',  './ensemble_sim_3/']\n",
    "name = 'smallTestNoise_010_09.csv'\n",
    "result_df = get_ensemble_result_big(PATH, name)\n",
    "result_df"
   ]
  },
  {
   "cell_type": "markdown",
   "metadata": {},
   "source": [
    "# Base & New Trainer"
   ]
  },
  {
   "cell_type": "code",
   "execution_count": 3,
   "metadata": {},
   "outputs": [],
   "source": [
    "cols = ['early_stop_round','trainer_name', 'initial_epoch', 'sampling_term','sampling_ratio']\n",
    "col = pd.read_csv('./run_result_sim/result_smallNormal.csv').sort_values('roc_auc', ascending=False).groupby('trainer_name')[['roc_auc']].head(3)"
   ]
  },
  {
   "cell_type": "code",
   "execution_count": 4,
   "metadata": {},
   "outputs": [
    {
     "data": {
      "text/plain": [
       "['result_bigTrainNoise_001_09.csv',\n",
       " 'result_smallNormal.csv',\n",
       " 'result_smallTestNoise_010_01.csv',\n",
       " 'result_smallTestNoise_010_09.csv',\n",
       " 'result_smallTrainNoise_001_01.csv',\n",
       " 'result_smallTrainNoise_001_09.csv',\n",
       " 'result_smallTrainNoise_010_01.csv',\n",
       " 'result_smallTrainNoise_010_09.csv']"
      ]
     },
     "execution_count": 4,
     "metadata": {},
     "output_type": "execute_result"
    }
   ],
   "source": [
    "os.listdir('./run_result_sim')"
   ]
  },
  {
   "cell_type": "code",
   "execution_count": 5,
   "metadata": {},
   "outputs": [
    {
     "name": "stdout",
     "output_type": "stream",
     "text": [
      "result_smallTrainNoise_010_09.csv\n",
      "base_roc=0.7022\n",
      "new_roc=0.7123\n",
      "base_pr=0.6382\n",
      "new_pr=0.6512\n"
     ]
    }
   ],
   "source": [
    "data_name = 'result_smallTrainNoise_010_09.csv'\n",
    "tmp = pd.read_csv('./run_result_sim/' + data_name)\n",
    "base = tmp.loc[tmp['trainer_name']=='BaseTrainer', ['roc_auc','pr_auc']]\n",
    "new = tmp.loc[tmp['trainer_name']=='NewTrainer',  ['roc_auc','pr_auc']]\n",
    "\n",
    "base_roc = round(base.sort_values('roc_auc', ascending=False).head(10)['roc_auc'].mean(), 4)\n",
    "new_roc  = round(new.sort_values('roc_auc', ascending=False).head(10)['roc_auc'].mean(), 4)\n",
    "base_pr  = round(base.sort_values('pr_auc', ascending=False).head(10)['pr_auc'].mean(), 4)\n",
    "new_pr   = round(new.sort_values('pr_auc', ascending=False).head(10)['pr_auc'].mean(), 4)\n",
    "\n",
    "print(data_name)\n",
    "print(f'base_roc={base_roc}')\n",
    "print(f'new_roc={new_roc}')\n",
    "print(f'base_pr={base_pr}')\n",
    "print(f'new_pr={new_pr}')\n"
   ]
  },
  {
   "cell_type": "code",
   "execution_count": 11,
   "metadata": {},
   "outputs": [],
   "source": [
    "cols = ['roc_auc', 'pr_auc', 'sampling_term',\n",
    "       'sampling_ratio', 'initial_epoch']"
   ]
  },
  {
   "cell_type": "code",
   "execution_count": 13,
   "metadata": {},
   "outputs": [
    {
     "data": {
      "text/html": [
       "<div>\n",
       "<style scoped>\n",
       "    .dataframe tbody tr th:only-of-type {\n",
       "        vertical-align: middle;\n",
       "    }\n",
       "\n",
       "    .dataframe tbody tr th {\n",
       "        vertical-align: top;\n",
       "    }\n",
       "\n",
       "    .dataframe thead th {\n",
       "        text-align: right;\n",
       "    }\n",
       "</style>\n",
       "<table border=\"1\" class=\"dataframe\">\n",
       "  <thead>\n",
       "    <tr style=\"text-align: right;\">\n",
       "      <th></th>\n",
       "      <th>roc_auc</th>\n",
       "      <th>pr_auc</th>\n",
       "      <th>sampling_term</th>\n",
       "      <th>sampling_ratio</th>\n",
       "      <th>initial_epoch</th>\n",
       "    </tr>\n",
       "  </thead>\n",
       "  <tbody>\n",
       "    <tr>\n",
       "      <th>7</th>\n",
       "      <td>0.7189</td>\n",
       "      <td>0.6584</td>\n",
       "      <td>1</td>\n",
       "      <td>0.01</td>\n",
       "      <td>10</td>\n",
       "    </tr>\n",
       "    <tr>\n",
       "      <th>14</th>\n",
       "      <td>0.7143</td>\n",
       "      <td>0.6551</td>\n",
       "      <td>1</td>\n",
       "      <td>0.10</td>\n",
       "      <td>10</td>\n",
       "    </tr>\n",
       "    <tr>\n",
       "      <th>11</th>\n",
       "      <td>0.7136</td>\n",
       "      <td>0.6544</td>\n",
       "      <td>1</td>\n",
       "      <td>0.01</td>\n",
       "      <td>5</td>\n",
       "    </tr>\n",
       "    <tr>\n",
       "      <th>9</th>\n",
       "      <td>0.7136</td>\n",
       "      <td>0.6525</td>\n",
       "      <td>1</td>\n",
       "      <td>0.10</td>\n",
       "      <td>10</td>\n",
       "    </tr>\n",
       "    <tr>\n",
       "      <th>30</th>\n",
       "      <td>0.7120</td>\n",
       "      <td>0.6515</td>\n",
       "      <td>1</td>\n",
       "      <td>0.01</td>\n",
       "      <td>20</td>\n",
       "    </tr>\n",
       "    <tr>\n",
       "      <th>6</th>\n",
       "      <td>0.7111</td>\n",
       "      <td>0.6496</td>\n",
       "      <td>1</td>\n",
       "      <td>0.01</td>\n",
       "      <td>5</td>\n",
       "    </tr>\n",
       "    <tr>\n",
       "      <th>40</th>\n",
       "      <td>0.7108</td>\n",
       "      <td>0.6507</td>\n",
       "      <td>5</td>\n",
       "      <td>0.01</td>\n",
       "      <td>20</td>\n",
       "    </tr>\n",
       "    <tr>\n",
       "      <th>32</th>\n",
       "      <td>0.7104</td>\n",
       "      <td>0.6476</td>\n",
       "      <td>1</td>\n",
       "      <td>0.10</td>\n",
       "      <td>5</td>\n",
       "    </tr>\n",
       "    <tr>\n",
       "      <th>44</th>\n",
       "      <td>0.7094</td>\n",
       "      <td>0.6436</td>\n",
       "      <td>5</td>\n",
       "      <td>0.10</td>\n",
       "      <td>20</td>\n",
       "    </tr>\n",
       "    <tr>\n",
       "      <th>41</th>\n",
       "      <td>0.7089</td>\n",
       "      <td>0.6480</td>\n",
       "      <td>1</td>\n",
       "      <td>0.10</td>\n",
       "      <td>5</td>\n",
       "    </tr>\n",
       "  </tbody>\n",
       "</table>\n",
       "</div>"
      ],
      "text/plain": [
       "    roc_auc  pr_auc  sampling_term  sampling_ratio  initial_epoch\n",
       "7    0.7189  0.6584              1            0.01             10\n",
       "14   0.7143  0.6551              1            0.10             10\n",
       "11   0.7136  0.6544              1            0.01              5\n",
       "9    0.7136  0.6525              1            0.10             10\n",
       "30   0.7120  0.6515              1            0.01             20\n",
       "6    0.7111  0.6496              1            0.01              5\n",
       "40   0.7108  0.6507              5            0.01             20\n",
       "32   0.7104  0.6476              1            0.10              5\n",
       "44   0.7094  0.6436              5            0.10             20\n",
       "41   0.7089  0.6480              1            0.10              5"
      ]
     },
     "execution_count": 13,
     "metadata": {},
     "output_type": "execute_result"
    }
   ],
   "source": [
    "tmp.loc[tmp['trainer_name']=='NewTrainer', cols].sort_values('roc_auc', ascending=False).head(10)"
   ]
  },
  {
   "cell_type": "code",
   "execution_count": 14,
   "metadata": {},
   "outputs": [],
   "source": [
    "data_name = 'result_smallTrainNoise_010_09.csv'\n",
    "tmp = pd.read_csv('./run_result_sim/' + data_name)"
   ]
  },
  {
   "cell_type": "code",
   "execution_count": 19,
   "metadata": {},
   "outputs": [
    {
     "data": {
      "text/plain": [
       "['result_bigTrainNoise_001_09.csv',\n",
       " 'result_smallNormal.csv',\n",
       " 'result_smallTestNoise_010_01.csv',\n",
       " 'result_smallTestNoise_010_09.csv',\n",
       " 'result_smallTrainNoise_001_01.csv',\n",
       " 'result_smallTrainNoise_001_09.csv',\n",
       " 'result_smallTrainNoise_010_01.csv',\n",
       " 'result_smallTrainNoise_010_09.csv']"
      ]
     },
     "execution_count": 19,
     "metadata": {},
     "output_type": "execute_result"
    }
   ],
   "source": [
    "os.listdir('./run_result_sim')"
   ]
  },
  {
   "cell_type": "code",
   "execution_count": 27,
   "metadata": {},
   "outputs": [
    {
     "name": "stderr",
     "output_type": "stream",
     "text": [
      "<ipython-input-27-c3426d7ea833>:3: FutureWarning: Indexing with multiple keys (implicitly converted to a tuple of keys) will be deprecated, use a list instead.\n",
      "  tmp.loc[tmp['early_stop_round']==1000, :].groupby(['trainer_name','early_stop_round','sampling_term',\n"
     ]
    },
    {
     "data": {
      "text/html": [
       "<div>\n",
       "<style scoped>\n",
       "    .dataframe tbody tr th:only-of-type {\n",
       "        vertical-align: middle;\n",
       "    }\n",
       "\n",
       "    .dataframe tbody tr th {\n",
       "        vertical-align: top;\n",
       "    }\n",
       "\n",
       "    .dataframe thead tr th {\n",
       "        text-align: left;\n",
       "    }\n",
       "</style>\n",
       "<table border=\"1\" class=\"dataframe\">\n",
       "  <thead>\n",
       "    <tr>\n",
       "      <th>trainer_name</th>\n",
       "      <th>BaseTrainer</th>\n",
       "      <th colspan=\"3\" halign=\"left\">NewTrainer</th>\n",
       "    </tr>\n",
       "    <tr>\n",
       "      <th>early_stop_round</th>\n",
       "      <th>1000</th>\n",
       "      <th colspan=\"3\" halign=\"left\">1000</th>\n",
       "    </tr>\n",
       "    <tr>\n",
       "      <th>sampling_term</th>\n",
       "      <th>0</th>\n",
       "      <th colspan=\"3\" halign=\"left\">1</th>\n",
       "    </tr>\n",
       "    <tr>\n",
       "      <th>sampling_ratio</th>\n",
       "      <th>0.0</th>\n",
       "      <th colspan=\"3\" halign=\"left\">0.1</th>\n",
       "    </tr>\n",
       "    <tr>\n",
       "      <th>initial_epoch</th>\n",
       "      <th>0</th>\n",
       "      <th>5</th>\n",
       "      <th>10</th>\n",
       "      <th>20</th>\n",
       "    </tr>\n",
       "  </thead>\n",
       "  <tbody>\n",
       "    <tr>\n",
       "      <th>roc_auc</th>\n",
       "      <td>0.6908</td>\n",
       "      <td>0.6964</td>\n",
       "      <td>0.6811</td>\n",
       "      <td>0.7049</td>\n",
       "    </tr>\n",
       "    <tr>\n",
       "      <th>pr_auc</th>\n",
       "      <td>0.6281</td>\n",
       "      <td>0.6340</td>\n",
       "      <td>0.6079</td>\n",
       "      <td>0.6432</td>\n",
       "    </tr>\n",
       "  </tbody>\n",
       "</table>\n",
       "</div>"
      ],
      "text/plain": [
       "trainer_name     BaseTrainer NewTrainer                \n",
       "early_stop_round        1000       1000                \n",
       "sampling_term              0          1                \n",
       "sampling_ratio           0.0        0.1                \n",
       "initial_epoch             0          5       10      20\n",
       "roc_auc               0.6908     0.6964  0.6811  0.7049\n",
       "pr_auc                0.6281     0.6340  0.6079  0.6432"
      ]
     },
     "execution_count": 27,
     "metadata": {},
     "output_type": "execute_result"
    }
   ],
   "source": [
    "data_name = os.listdir('./run_result_sim')[7]\n",
    "tmp = pd.read_csv('./run_result_sim/' + data_name)\n",
    "tmp.loc[tmp['early_stop_round']==1000, :].groupby(['trainer_name','early_stop_round','sampling_term',\n",
    "       'sampling_ratio', 'initial_epoch'])['roc_auc', 'pr_auc'].mean().T"
   ]
  },
  {
   "cell_type": "markdown",
   "metadata": {},
   "source": [
    "# bolxplot\n",
    "- 데이터 마다 boxplot으로 base, new, ensemble score"
   ]
  },
  {
   "cell_type": "code",
   "execution_count": 76,
   "metadata": {},
   "outputs": [
    {
     "name": "stdout",
     "output_type": "stream",
     "text": [
      "result_smallNormal.csv.shape = (65, 22)\n",
      "result_smallTestNoise_010_01.csv.shape = (55, 22)\n",
      "result_smallTestNoise_010_09.csv.shape = (40, 22)\n",
      "result_smallTrainNoise_001_01.csv.shape = (44, 22)\n",
      "result_smallTrainNoise_001_09.csv.shape = (48, 22)\n",
      "result_smallTrainNoise_010_01.csv.shape = (49, 22)\n",
      "result_smallTrainNoise_010_09.csv.shape = (45, 22)\n",
      "concat_df.shape = (292, 22)\n"
     ]
    }
   ],
   "source": [
    "result_df = pd.DataFrame(columns=['trainer_name', 'now', 'return_epoch', 'early_stop_round',\n",
    "       'hidden_size', 'trn_loss', 'val_loss', 'avg_trn_ano_scr',\n",
    "       'std_trn_ano_scr', 'avg_val_ano_scr', 'std_val_ano_scr',\n",
    "       'avg_tst_ano_scr', 'std_tst_ano_scr', 'avg_true_ano_scr',\n",
    "       'std_true_ano_scr', 'IR', 'roc_auc', 'pr_auc', 'sampling_term',\n",
    "       'sampling_ratio', 'initial_epoch', 'data_name'])\n",
    "\n",
    "for data in os.listdir('./run_result_sim')[1:]:\n",
    "    df = pd.read_csv('./run_result_sim/' + data)\n",
    "    df['data_name'] = data\n",
    "    result_df = pd.concat([result_df, df]).reset_index(drop=True)\n",
    "    print(f'{data}.shape = {df.shape}')\n",
    "    \n",
    "result_df = result_df.loc[result_df['early_stop_round']==50, :]\n",
    "print(f'concat_df.shape = {result_df.shape}')"
   ]
  },
  {
   "cell_type": "code",
   "execution_count": 80,
   "metadata": {},
   "outputs": [
    {
     "data": {
      "text/plain": [
       "<matplotlib.axes._subplots.AxesSubplot at 0x2ce8ac52bb0>"
      ]
     },
     "execution_count": 80,
     "metadata": {},
     "output_type": "execute_result"
    },
    {
     "data": {
      "image/png": "[encoded data removed]",
      "text/plain": [
       "<Figure size 720x504 with 1 Axes>"
      ]
     },
     "metadata": {
      "needs_background": "light"
     },
     "output_type": "display_data"
    }
   ],
   "source": [
    "plt.figure(figsize=(10,7))\n",
    "sns.boxplot(data=result_df, y='data_name', x='roc_auc', hue='trainer_name')"
   ]
  },
  {
   "cell_type": "code",
   "execution_count": 81,
   "metadata": {},
   "outputs": [
    {
     "data": {
      "text/plain": [
       "<matplotlib.axes._subplots.AxesSubplot at 0x2ce8b8128b0>"
      ]
     },
     "execution_count": 81,
     "metadata": {},
     "output_type": "execute_result"
    },
    {
     "data": {
      "image/png": "[encoded data removed]",
      "text/plain": [
       "<Figure size 720x504 with 1 Axes>"
      ]
     },
     "metadata": {
      "needs_background": "light"
     },
     "output_type": "display_data"
    }
   ],
   "source": [
    "plt.figure(figsize=(10,7))\n",
    "sns.boxplot(data=result_df, y='data_name', x='pr_auc', hue='trainer_name') "
   ]
  }
 ],
 "metadata": {
  "interpreter": {
   "hash": "4829241e38f97ce9549fd9dd142f37034ca40da852944784ae6a4626739d5593"
  },
  "kernelspec": {
   "display_name": "Python 3.8.3 64-bit ('pytorch': conda)",
   "language": "python",
   "name": "python3"
  },
  "language_info": {
   "codemirror_mode": {
    "name": "ipython",
    "version": 3
   },
   "file_extension": ".py",
   "mimetype": "text/x-python",
   "name": "python",
   "nbconvert_exporter": "python",
   "pygments_lexer": "ipython3",
   "version": "3.8.3"
  },
  "orig_nbformat": 4
 },
 "nbformat": 4,
 "nbformat_minor": 2
}
