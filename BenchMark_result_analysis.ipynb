{
 "cells": [
  {
   "cell_type": "code",
   "execution_count": 1,
   "metadata": {},
   "outputs": [],
   "source": [
    "import pandas as pd\n",
    "import numpy as np\n",
    "import matplotlib.pyplot as plt\n",
    "import seaborn as sns\n",
    "import os\n",
    "import pickle\n",
    "from sklearn.metrics import roc_auc_score, precision_recall_curve, auc"
   ]
  },
  {
   "cell_type": "markdown",
   "metadata": {},
   "source": [
    "# Ensemble"
   ]
  },
  {
   "cell_type": "code",
   "execution_count": 2,
   "metadata": {},
   "outputs": [],
   "source": [
    "from sklearn.preprocessing import StandardScaler\n",
    "from sklearn.model_selection import train_test_split\n",
    "\n",
    "def _normalize_tabular(df: pd.DataFrame, label_name: str = \"label\"):\n",
    "    scaler = StandardScaler()\n",
    "    X = scaler.fit_transform(df.drop(label_name, axis=1))\n",
    "    y = df[label_name]\n",
    "    return X, y\n",
    "\n",
    "def simul_split_train_valid_test(df: pd.DataFrame, train_ratio: float = 0.7):\n",
    "    X, y = _normalize_tabular(df)\n",
    "    tmp = pd.DataFrame(X)\n",
    "    tmp[\"label\"] = y\n",
    "    normal = tmp.loc[tmp[\"label\"] == 0, :].reset_index(drop=True)\n",
    "    abnormal = tmp.loc[tmp[\"label\"] == 1, :].reset_index(drop=True)\n",
    "    X_train, X_val_test, y_train, y_val_test = train_test_split(\n",
    "        normal.drop(\"label\", axis=1),\n",
    "        normal[\"label\"],\n",
    "        train_size=train_ratio,\n",
    "        random_state=42,\n",
    "        shuffle=False,\n",
    "    )\n",
    "    \n",
    "    X_val, X_test, y_val, y_test = train_test_split(\n",
    "        X_val_test, y_val_test, train_size=0.5, random_state=42, shuffle=False\n",
    "    )\n",
    "    X_test[\"label\"] = y_test\n",
    "    X_test = pd.concat([X_test, abnormal]).reset_index(drop=True)\n",
    "    return (\n",
    "        X_train.values,\n",
    "        X_val.values,\n",
    "        X_test.drop(\"label\", axis=1).values,\n",
    "        y_train.values,\n",
    "        y_val.values,\n",
    "        X_test[\"label\"].values,\n",
    "    )"
   ]
  },
  {
   "cell_type": "code",
   "execution_count": 3,
   "metadata": {},
   "outputs": [
    {
     "data": {
      "text/plain": [
       "['abalone9-18.csv',\n",
       " 'shuttle-c0-vs-c4.csv',\n",
       " 'vowel0.csv',\n",
       " 'wine.csv',\n",
       " 'yeast-1-2-8-9_vs_7.csv',\n",
       " 'yeast4.csv',\n",
       " 'yeast5.csv',\n",
       " 'yeast6.csv']"
      ]
     },
     "execution_count": 3,
     "metadata": {},
     "output_type": "execute_result"
    }
   ],
   "source": [
    "os.listdir('./tabular_data')"
   ]
  },
  {
   "cell_type": "code",
   "execution_count": 4,
   "metadata": {},
   "outputs": [],
   "source": [
    "def get_ensemble_result(ensemble_PATH='./ensemble_sim_1/', data_path='./sim_data/', name='smallNormal.csv', n_models=8):\n",
    "    data = pd.read_csv(data_path + name)\n",
    "\n",
    "    (\n",
    "        _,\n",
    "        _,\n",
    "        _,\n",
    "        _,\n",
    "        _,\n",
    "        test_y,\n",
    "    ) = simul_split_train_valid_test(data, 0.7)\n",
    "\n",
    "    name = name.split('.')[0]\n",
    "\n",
    "    anomaly_score = np.zeros((len(test_y), n_models))\n",
    "\n",
    "    result_df = pd.DataFrame(columns=['mean','median','max','min'], index=['roc_auc','pr_auc'])\n",
    "\n",
    "\n",
    "    idx = 0\n",
    "    for data_name in os.listdir(ensemble_PATH):\n",
    "        if name in data_name:\n",
    "            with open(ensemble_PATH + data_name, 'rb') as f:\n",
    "                tmp = pickle.load(f)\n",
    "                anomaly_score[:, idx] = tmp\n",
    "                idx += 1\n",
    "\n",
    "    tst_ano_scr_med = np.median(anomaly_score, axis=1)\n",
    "    tst_ano_scr_mean = np.mean(anomaly_score, axis=1)\n",
    "    tst_ano_scr_max = np.max(anomaly_score, axis=1)\n",
    "    tst_ano_scr_min = np.min(anomaly_score, axis=1)\n",
    "\n",
    "    idx = 0\n",
    "    for tst_ano_scr in [tst_ano_scr_mean, tst_ano_scr_med, tst_ano_scr_max, tst_ano_scr_min]:\n",
    "        roc_auc = roc_auc_score(test_y, tst_ano_scr)\n",
    "        _precision, _recall, _ = precision_recall_curve(test_y, tst_ano_scr)\n",
    "        pr_auc = auc(_recall, _precision)\n",
    "        result_df.iloc[0, idx] = roc_auc\n",
    "        result_df.iloc[1, idx] = pr_auc\n",
    "        idx += 1\n",
    "\n",
    "    return result_df\n",
    "\n",
    "# def get_ensemble_result_big(PATHs = ['./ensemble_sim_1/'], name = 'smallNormal.csv', n_models=8):\n",
    "#     data = pd.read_csv('./sim_data/'+ name)\n",
    "\n",
    "#     (\n",
    "#         _,\n",
    "#         _,\n",
    "#         _,\n",
    "#         _,\n",
    "#         _,\n",
    "#         test_y,\n",
    "#     ) = simul_split_train_valid_test(data, 0.7)\n",
    "\n",
    "#     name = name.split('.')[0]\n",
    "\n",
    "#     anomaly_score = np.zeros((len(test_y), n_models * len(PATHs)))\n",
    "\n",
    "#     result_df = pd.DataFrame(columns=['mean','median','max','min'], index=['roc_auc','pr_auc'])\n",
    "\n",
    "\n",
    "#     idx = 0\n",
    "#     for PATH in PATHs:\n",
    "#         for data_name in os.listdir(PATH):\n",
    "#             if name in data_name:\n",
    "#                 with open(PATH + data_name, 'rb') as f:\n",
    "#                     tmp = pickle.load(f)\n",
    "#                     anomaly_score[:, idx] = tmp\n",
    "#                     idx += 1\n",
    "\n",
    "#     tst_ano_scr_med = np.median(anomaly_score, axis=1)\n",
    "#     tst_ano_scr_mean = np.mean(anomaly_score, axis=1)\n",
    "#     tst_ano_scr_max = np.max(anomaly_score, axis=1)\n",
    "#     tst_ano_scr_min = np.min(anomaly_score, axis=1)\n",
    "\n",
    "#     idx = 0\n",
    "#     for tst_ano_scr in [tst_ano_scr_mean, tst_ano_scr_med, tst_ano_scr_max, tst_ano_scr_min]:\n",
    "#         roc_auc = roc_auc_score(test_y, tst_ano_scr)\n",
    "#         _precision, _recall, _ = precision_recall_curve(test_y, tst_ano_scr)\n",
    "#         pr_auc = auc(_recall, _precision)\n",
    "#         result_df.iloc[0, idx] = roc_auc\n",
    "#         result_df.iloc[1, idx] = pr_auc\n",
    "#         idx += 1\n",
    "\n",
    "#     return result_df"
   ]
  },
  {
   "cell_type": "code",
   "execution_count": 5,
   "metadata": {},
   "outputs": [
    {
     "ename": "NameError",
     "evalue": "name 'get_ensemble_result_big' is not defined",
     "output_type": "error",
     "traceback": [
      "\u001b[1;31m---------------------------------------------------------------------------\u001b[0m",
      "\u001b[1;31mNameError\u001b[0m                                 Traceback (most recent call last)",
      "\u001b[1;32m<ipython-input-5-80ca81b3c9bc>\u001b[0m in \u001b[0;36m<module>\u001b[1;34m\u001b[0m\n\u001b[0;32m      1\u001b[0m \u001b[0mPATH\u001b[0m \u001b[1;33m=\u001b[0m \u001b[1;33m[\u001b[0m\u001b[1;34m'./ensemble_sim_1/'\u001b[0m\u001b[1;33m,\u001b[0m \u001b[1;34m'./ensemble_sim_2/'\u001b[0m\u001b[1;33m,\u001b[0m  \u001b[1;34m'./ensemble_sim_3/'\u001b[0m\u001b[1;33m]\u001b[0m\u001b[1;33m\u001b[0m\u001b[1;33m\u001b[0m\u001b[0m\n\u001b[0;32m      2\u001b[0m \u001b[0mname\u001b[0m \u001b[1;33m=\u001b[0m \u001b[1;34m'smallTestNoise_010_09.csv'\u001b[0m\u001b[1;33m\u001b[0m\u001b[1;33m\u001b[0m\u001b[0m\n\u001b[1;32m----> 3\u001b[1;33m \u001b[0mresult_df\u001b[0m \u001b[1;33m=\u001b[0m \u001b[0mget_ensemble_result_big\u001b[0m\u001b[1;33m(\u001b[0m\u001b[0mPATH\u001b[0m\u001b[1;33m,\u001b[0m \u001b[0mname\u001b[0m\u001b[1;33m)\u001b[0m\u001b[1;33m\u001b[0m\u001b[1;33m\u001b[0m\u001b[0m\n\u001b[0m\u001b[0;32m      4\u001b[0m \u001b[0mresult_df\u001b[0m\u001b[1;33m\u001b[0m\u001b[1;33m\u001b[0m\u001b[0m\n",
      "\u001b[1;31mNameError\u001b[0m: name 'get_ensemble_result_big' is not defined"
     ]
    }
   ],
   "source": [
    "PATH = ['./ensemble_sim_1/', './ensemble_sim_2/',  './ensemble_sim_3/']\n",
    "name = 'smallTestNoise_010_09.csv'\n",
    "result_df = get_ensemble_result_big(PATH, name)\n",
    "result_df"
   ]
  },
  {
   "cell_type": "markdown",
   "metadata": {},
   "source": [
    "# Base & New Trainer"
   ]
  },
  {
   "cell_type": "code",
   "execution_count": 9,
   "metadata": {},
   "outputs": [
    {
     "data": {
      "text/plain": [
       "['result_abalone9-18.csv',\n",
       " 'result_shuttle-c0-vs-c4.csv',\n",
       " 'result_vowel0.csv',\n",
       " 'result_wine.csv',\n",
       " 'result_yeast-1-2-8-9_vs_7.csv',\n",
       " 'result_yeast4.csv',\n",
       " 'result_yeast5.csv',\n",
       " 'result_yeast6.csv']"
      ]
     },
     "execution_count": 9,
     "metadata": {},
     "output_type": "execute_result"
    }
   ],
   "source": [
    "os.listdir('./run_result_tabular')"
   ]
  },
  {
   "cell_type": "code",
   "execution_count": 18,
   "metadata": {},
   "outputs": [
    {
     "name": "stdout",
     "output_type": "stream",
     "text": [
      "result_yeast6.csv\n",
      "base_roc=0.6638\n",
      "new_roc=0.7139\n",
      "base_pr=0.2073\n",
      "new_pr=0.248\n"
     ]
    }
   ],
   "source": [
    "data_name = 'result_yeast6.csv'\n",
    "tmp = pd.read_csv('./run_result_tabular/' + data_name)\n",
    "base = tmp.loc[tmp['trainer_name']=='BaseTrainer', ['roc_auc','pr_auc']]\n",
    "new = tmp.loc[tmp['trainer_name']=='NewTrainer',  ['roc_auc','pr_auc']]\n",
    "\n",
    "base_roc = round(base.sort_values('roc_auc', ascending=False).head(10)['roc_auc'].mean(), 4)\n",
    "new_roc  = round(new.sort_values('roc_auc', ascending=False).head(10)['roc_auc'].mean(), 4)\n",
    "base_pr  = round(base.sort_values('pr_auc', ascending=False).head(10)['pr_auc'].mean(), 4)\n",
    "new_pr   = round(new.sort_values('pr_auc', ascending=False).head(10)['pr_auc'].mean(), 4)\n",
    "\n",
    "print(data_name)\n",
    "print(f'base_roc={base_roc}')\n",
    "print(f'new_roc={new_roc}')\n",
    "print(f'base_pr={base_pr}')\n",
    "print(f'new_pr={new_pr}')\n"
   ]
  },
  {
   "cell_type": "markdown",
   "metadata": {},
   "source": [
    "# bolxplot\n",
    "- 데이터 마다 boxplot으로 new, ensemble score"
   ]
  },
  {
   "cell_type": "code",
   "execution_count": 5,
   "metadata": {},
   "outputs": [],
   "source": [
    "ensemble_paths = ['./ensemble_sim_1/', './ensemble_sim_2/',  './ensemble_sim_3/']\n",
    "single_path = './run_result_sim/'\n",
    "single_n = -1\n",
    "data_list = [d for d in os.listdir('./sim_data') if 'small' in d and '05' not in d and '.csv' in d]\n",
    "method = 'min'\n",
    "\n",
    "def get_boxplot_df(ensemble_paths, data_path, single_path, single_n, data_list, method):\n",
    "    df = pd.DataFrame(columns=['model', 'data','score','value'])\n",
    "    for data_name in data_list:\n",
    "        # ensemble\n",
    "        for ensemble_path in ensemble_paths:\n",
    "            result_df = get_ensemble_result(ensemble_path, data_path, data_name)\n",
    "            for d in zip(result_df[method].index, result_df[method].values):\n",
    "                df = df.append(\n",
    "                    {\n",
    "                        'model': 'ensemble' + '(' + method + ')',\n",
    "                        'data': data_name,\n",
    "                        'score': d[0],\n",
    "                        'value': d[1]\n",
    "                    },\n",
    "                    ignore_index=True\n",
    "                )\n",
    "        # single\n",
    "        single_df = pd.read_csv(single_path + 'result_' +  data_name)\n",
    "        single_df = single_df.loc[single_df['trainer_name']=='NewTrainer',  ['roc_auc','pr_auc']]\n",
    "        if single_n == -1:\n",
    "            new_pr = single_df.sort_values('pr_auc', ascending=False)\n",
    "            new_roc  = single_df.sort_values('roc_auc', ascending=False)\n",
    "        else:\n",
    "            new_pr = single_df.sort_values('pr_auc', ascending=False).head(single_n)\n",
    "            new_roc  = single_df.sort_values('roc_auc', ascending=False).head(single_n)\n",
    "        print(f'single model의 갯수 = {len(single_df)}')\n",
    "        for pr_auc in new_pr['pr_auc']:\n",
    "            df = df.append(\n",
    "                    {\n",
    "                        'model': 'single',\n",
    "                        'data': data_name,\n",
    "                        'score': 'pr_auc',\n",
    "                        'value': pr_auc\n",
    "                    },\n",
    "                    ignore_index=True\n",
    "                )\n",
    "        for roc_auc in new_roc['roc_auc']:\n",
    "                df = df.append(\n",
    "                    {\n",
    "                        'model': 'single',\n",
    "                        'data': data_name,\n",
    "                        'score': 'roc_auc',\n",
    "                        'value': roc_auc\n",
    "                    },\n",
    "                    ignore_index=True\n",
    "                )\n",
    "    \n",
    "    return df"
   ]
  },
  {
   "cell_type": "code",
   "execution_count": 6,
   "metadata": {},
   "outputs": [],
   "source": [
    "import warnings\n",
    "warnings.filterwarnings('ignore')"
   ]
  },
  {
   "cell_type": "code",
   "execution_count": 64,
   "metadata": {},
   "outputs": [
    {
     "name": "stdout",
     "output_type": "stream",
     "text": [
      "single model의 갯수 = 56\n",
      "single model의 갯수 = 48\n",
      "single model의 갯수 = 36\n",
      "single model의 갯수 = 40\n",
      "single model의 갯수 = 43\n",
      "single model의 갯수 = 41\n",
      "single model의 갯수 = 39\n"
     ]
    }
   ],
   "source": [
    "ensemble_paths = ['./ensemble_sim_1/', './ensemble_sim_2/',  './ensemble_sim_3/']\n",
    "data_path = './sim_data/'\n",
    "single_path = './run_result_sim/'\n",
    "single_n = len(ensemble_paths) * 8\n",
    "data_list = [d for d in os.listdir('./sim_data') if 'small' in d and '05' not in d and '.csv' in d]\n",
    "method = 'max'\n",
    "\n",
    "df = get_boxplot_df(ensemble_paths,data_path, single_path, single_n, data_list, method)"
   ]
  },
  {
   "cell_type": "code",
   "execution_count": 65,
   "metadata": {},
   "outputs": [
    {
     "data": {
      "text/html": [
       "<div>\n",
       "<style scoped>\n",
       "    .dataframe tbody tr th:only-of-type {\n",
       "        vertical-align: middle;\n",
       "    }\n",
       "\n",
       "    .dataframe tbody tr th {\n",
       "        vertical-align: top;\n",
       "    }\n",
       "\n",
       "    .dataframe thead th {\n",
       "        text-align: right;\n",
       "    }\n",
       "</style>\n",
       "<table border=\"1\" class=\"dataframe\">\n",
       "  <thead>\n",
       "    <tr style=\"text-align: right;\">\n",
       "      <th></th>\n",
       "      <th></th>\n",
       "      <th></th>\n",
       "      <th>value</th>\n",
       "    </tr>\n",
       "    <tr>\n",
       "      <th>model</th>\n",
       "      <th>data</th>\n",
       "      <th>score</th>\n",
       "      <th></th>\n",
       "    </tr>\n",
       "  </thead>\n",
       "  <tbody>\n",
       "    <tr>\n",
       "      <th rowspan=\"14\" valign=\"top\">ensemble(max)</th>\n",
       "      <th rowspan=\"2\" valign=\"top\">smallNormal.csv</th>\n",
       "      <th>pr_auc</th>\n",
       "      <td>0.625585</td>\n",
       "    </tr>\n",
       "    <tr>\n",
       "      <th>roc_auc</th>\n",
       "      <td>0.699648</td>\n",
       "    </tr>\n",
       "    <tr>\n",
       "      <th rowspan=\"2\" valign=\"top\">smallTestNoise_010_01.csv</th>\n",
       "      <th>pr_auc</th>\n",
       "      <td>0.614299</td>\n",
       "    </tr>\n",
       "    <tr>\n",
       "      <th>roc_auc</th>\n",
       "      <td>0.688736</td>\n",
       "    </tr>\n",
       "    <tr>\n",
       "      <th rowspan=\"2\" valign=\"top\">smallTestNoise_010_09.csv</th>\n",
       "      <th>pr_auc</th>\n",
       "      <td>0.595377</td>\n",
       "    </tr>\n",
       "    <tr>\n",
       "      <th>roc_auc</th>\n",
       "      <td>0.665526</td>\n",
       "    </tr>\n",
       "    <tr>\n",
       "      <th rowspan=\"2\" valign=\"top\">smallTrainNoise_001_01.csv</th>\n",
       "      <th>pr_auc</th>\n",
       "      <td>0.621280</td>\n",
       "    </tr>\n",
       "    <tr>\n",
       "      <th>roc_auc</th>\n",
       "      <td>0.695163</td>\n",
       "    </tr>\n",
       "    <tr>\n",
       "      <th rowspan=\"2\" valign=\"top\">smallTrainNoise_001_09.csv</th>\n",
       "      <th>pr_auc</th>\n",
       "      <td>0.623923</td>\n",
       "    </tr>\n",
       "    <tr>\n",
       "      <th>roc_auc</th>\n",
       "      <td>0.697090</td>\n",
       "    </tr>\n",
       "    <tr>\n",
       "      <th rowspan=\"2\" valign=\"top\">smallTrainNoise_010_01.csv</th>\n",
       "      <th>pr_auc</th>\n",
       "      <td>0.626848</td>\n",
       "    </tr>\n",
       "    <tr>\n",
       "      <th>roc_auc</th>\n",
       "      <td>0.701831</td>\n",
       "    </tr>\n",
       "    <tr>\n",
       "      <th rowspan=\"2\" valign=\"top\">smallTrainNoise_010_09.csv</th>\n",
       "      <th>pr_auc</th>\n",
       "      <td>0.598734</td>\n",
       "    </tr>\n",
       "    <tr>\n",
       "      <th>roc_auc</th>\n",
       "      <td>0.671893</td>\n",
       "    </tr>\n",
       "    <tr>\n",
       "      <th rowspan=\"14\" valign=\"top\">single</th>\n",
       "      <th rowspan=\"2\" valign=\"top\">smallNormal.csv</th>\n",
       "      <th>pr_auc</th>\n",
       "      <td>0.705142</td>\n",
       "    </tr>\n",
       "    <tr>\n",
       "      <th>roc_auc</th>\n",
       "      <td>0.757650</td>\n",
       "    </tr>\n",
       "    <tr>\n",
       "      <th rowspan=\"2\" valign=\"top\">smallTestNoise_010_01.csv</th>\n",
       "      <th>pr_auc</th>\n",
       "      <td>0.660087</td>\n",
       "    </tr>\n",
       "    <tr>\n",
       "      <th>roc_auc</th>\n",
       "      <td>0.721325</td>\n",
       "    </tr>\n",
       "    <tr>\n",
       "      <th rowspan=\"2\" valign=\"top\">smallTestNoise_010_09.csv</th>\n",
       "      <th>pr_auc</th>\n",
       "      <td>0.639292</td>\n",
       "    </tr>\n",
       "    <tr>\n",
       "      <th>roc_auc</th>\n",
       "      <td>0.694750</td>\n",
       "    </tr>\n",
       "    <tr>\n",
       "      <th rowspan=\"2\" valign=\"top\">smallTrainNoise_001_01.csv</th>\n",
       "      <th>pr_auc</th>\n",
       "      <td>0.684554</td>\n",
       "    </tr>\n",
       "    <tr>\n",
       "      <th>roc_auc</th>\n",
       "      <td>0.741192</td>\n",
       "    </tr>\n",
       "    <tr>\n",
       "      <th rowspan=\"2\" valign=\"top\">smallTrainNoise_001_09.csv</th>\n",
       "      <th>pr_auc</th>\n",
       "      <td>0.667975</td>\n",
       "    </tr>\n",
       "    <tr>\n",
       "      <th>roc_auc</th>\n",
       "      <td>0.727692</td>\n",
       "    </tr>\n",
       "    <tr>\n",
       "      <th rowspan=\"2\" valign=\"top\">smallTrainNoise_010_01.csv</th>\n",
       "      <th>pr_auc</th>\n",
       "      <td>0.675967</td>\n",
       "    </tr>\n",
       "    <tr>\n",
       "      <th>roc_auc</th>\n",
       "      <td>0.735946</td>\n",
       "    </tr>\n",
       "    <tr>\n",
       "      <th rowspan=\"2\" valign=\"top\">smallTrainNoise_010_09.csv</th>\n",
       "      <th>pr_auc</th>\n",
       "      <td>0.642479</td>\n",
       "    </tr>\n",
       "    <tr>\n",
       "      <th>roc_auc</th>\n",
       "      <td>0.705442</td>\n",
       "    </tr>\n",
       "  </tbody>\n",
       "</table>\n",
       "</div>"
      ],
      "text/plain": [
       "                                                     value\n",
       "model         data                       score            \n",
       "ensemble(max) smallNormal.csv            pr_auc   0.625585\n",
       "                                         roc_auc  0.699648\n",
       "              smallTestNoise_010_01.csv  pr_auc   0.614299\n",
       "                                         roc_auc  0.688736\n",
       "              smallTestNoise_010_09.csv  pr_auc   0.595377\n",
       "                                         roc_auc  0.665526\n",
       "              smallTrainNoise_001_01.csv pr_auc   0.621280\n",
       "                                         roc_auc  0.695163\n",
       "              smallTrainNoise_001_09.csv pr_auc   0.623923\n",
       "                                         roc_auc  0.697090\n",
       "              smallTrainNoise_010_01.csv pr_auc   0.626848\n",
       "                                         roc_auc  0.701831\n",
       "              smallTrainNoise_010_09.csv pr_auc   0.598734\n",
       "                                         roc_auc  0.671893\n",
       "single        smallNormal.csv            pr_auc   0.705142\n",
       "                                         roc_auc  0.757650\n",
       "              smallTestNoise_010_01.csv  pr_auc   0.660087\n",
       "                                         roc_auc  0.721325\n",
       "              smallTestNoise_010_09.csv  pr_auc   0.639292\n",
       "                                         roc_auc  0.694750\n",
       "              smallTrainNoise_001_01.csv pr_auc   0.684554\n",
       "                                         roc_auc  0.741192\n",
       "              smallTrainNoise_001_09.csv pr_auc   0.667975\n",
       "                                         roc_auc  0.727692\n",
       "              smallTrainNoise_010_01.csv pr_auc   0.675967\n",
       "                                         roc_auc  0.735946\n",
       "              smallTrainNoise_010_09.csv pr_auc   0.642479\n",
       "                                         roc_auc  0.705442"
      ]
     },
     "execution_count": 65,
     "metadata": {},
     "output_type": "execute_result"
    }
   ],
   "source": [
    "df.groupby(['model','data','score']).mean()"
   ]
  },
  {
   "cell_type": "code",
   "execution_count": 42,
   "metadata": {},
   "outputs": [
    {
     "data": {
      "image/png": "[encoded data removed]",
      "text/plain": [
       "<Figure size 504x360 with 1 Axes>"
      ]
     },
     "metadata": {
      "needs_background": "light"
     },
     "output_type": "display_data"
    }
   ],
   "source": [
    "plt.figure(figsize=(7,5))\n",
    "sns.boxplot(data=df.loc[df['score']=='roc_auc', :], y='data', x='value',hue='model')\n",
    "plt.yticks(np.arange(7), ['normal','Test1','Test2','Train1','Train2','Train3','Train4'])\n",
    "plt.xlabel('AUCROC')\n",
    "plt.title(f'Unsupervised Learning')\n",
    "plt.show()"
   ]
  },
  {
   "cell_type": "code",
   "execution_count": 25,
   "metadata": {},
   "outputs": [
    {
     "data": {
      "image/png": "[encoded data removed]",
      "text/plain": [
       "<Figure size 504x360 with 1 Axes>"
      ]
     },
     "metadata": {
      "needs_background": "light"
     },
     "output_type": "display_data"
    }
   ],
   "source": [
    "plt.figure(figsize=(7,5))\n",
    "sns.boxplot(data=df.loc[df['score']=='pr_auc', :], y='data', x='value',hue='model')\n",
    "plt.yticks(np.arange(7), ['normal','Test1','Test2','Train1','Train2','Train3','Train4'])\n",
    "plt.xlabel('AUCPR')\n",
    "plt.title('Unsupervised Learning')\n",
    "plt.show()"
   ]
  },
  {
   "cell_type": "code",
   "execution_count": 74,
   "metadata": {},
   "outputs": [
    {
     "name": "stdout",
     "output_type": "stream",
     "text": [
      "single model의 갯수 = 35\n",
      "single model의 갯수 = 24\n",
      "single model의 갯수 = 24\n",
      "single model의 갯수 = 24\n",
      "single model의 갯수 = 24\n",
      "single model의 갯수 = 24\n",
      "single model의 갯수 = 24\n",
      "single model의 갯수 = 24\n"
     ]
    }
   ],
   "source": [
    "ensemble_paths = ['./ensemble_tabular_1/', './ensemble_tabular_2/',  './ensemble_tabular_3/']\n",
    "data_path = './tabular_data/'\n",
    "single_path = './run_result_tabular/'\n",
    "single_n = len(ensemble_paths) * 8\n",
    "data_list = os.listdir('./tabular_data')\n",
    "method = 'min'\n",
    "\n",
    "tabular_df = get_boxplot_df(ensemble_paths, data_path, single_path, single_n, data_list, method)"
   ]
  },
  {
   "cell_type": "code",
   "execution_count": 75,
   "metadata": {},
   "outputs": [
    {
     "data": {
      "text/html": [
       "<div>\n",
       "<style scoped>\n",
       "    .dataframe tbody tr th:only-of-type {\n",
       "        vertical-align: middle;\n",
       "    }\n",
       "\n",
       "    .dataframe tbody tr th {\n",
       "        vertical-align: top;\n",
       "    }\n",
       "\n",
       "    .dataframe thead th {\n",
       "        text-align: right;\n",
       "    }\n",
       "</style>\n",
       "<table border=\"1\" class=\"dataframe\">\n",
       "  <thead>\n",
       "    <tr style=\"text-align: right;\">\n",
       "      <th></th>\n",
       "      <th></th>\n",
       "      <th></th>\n",
       "      <th>value</th>\n",
       "    </tr>\n",
       "    <tr>\n",
       "      <th>model</th>\n",
       "      <th>data</th>\n",
       "      <th>score</th>\n",
       "      <th></th>\n",
       "    </tr>\n",
       "  </thead>\n",
       "  <tbody>\n",
       "    <tr>\n",
       "      <th rowspan=\"16\" valign=\"top\">ensemble(min)</th>\n",
       "      <th rowspan=\"2\" valign=\"top\">abalone9-18.csv</th>\n",
       "      <th>pr_auc</th>\n",
       "      <td>0.623803</td>\n",
       "    </tr>\n",
       "    <tr>\n",
       "      <th>roc_auc</th>\n",
       "      <td>0.799756</td>\n",
       "    </tr>\n",
       "    <tr>\n",
       "      <th rowspan=\"2\" valign=\"top\">shuttle-c0-vs-c4.csv</th>\n",
       "      <th>pr_auc</th>\n",
       "      <td>1.000000</td>\n",
       "    </tr>\n",
       "    <tr>\n",
       "      <th>roc_auc</th>\n",
       "      <td>1.000000</td>\n",
       "    </tr>\n",
       "    <tr>\n",
       "      <th rowspan=\"2\" valign=\"top\">vowel0.csv</th>\n",
       "      <th>pr_auc</th>\n",
       "      <td>0.633760</td>\n",
       "    </tr>\n",
       "    <tr>\n",
       "      <th>roc_auc</th>\n",
       "      <td>0.680439</td>\n",
       "    </tr>\n",
       "    <tr>\n",
       "      <th rowspan=\"2\" valign=\"top\">wine.csv</th>\n",
       "      <th>pr_auc</th>\n",
       "      <td>0.422592</td>\n",
       "    </tr>\n",
       "    <tr>\n",
       "      <th>roc_auc</th>\n",
       "      <td>0.726827</td>\n",
       "    </tr>\n",
       "    <tr>\n",
       "      <th rowspan=\"2\" valign=\"top\">yeast-1-2-8-9_vs_7.csv</th>\n",
       "      <th>pr_auc</th>\n",
       "      <td>0.180754</td>\n",
       "    </tr>\n",
       "    <tr>\n",
       "      <th>roc_auc</th>\n",
       "      <td>0.532206</td>\n",
       "    </tr>\n",
       "    <tr>\n",
       "      <th rowspan=\"2\" valign=\"top\">yeast4.csv</th>\n",
       "      <th>pr_auc</th>\n",
       "      <td>0.291928</td>\n",
       "    </tr>\n",
       "    <tr>\n",
       "      <th>roc_auc</th>\n",
       "      <td>0.706065</td>\n",
       "    </tr>\n",
       "    <tr>\n",
       "      <th rowspan=\"2\" valign=\"top\">yeast5.csv</th>\n",
       "      <th>pr_auc</th>\n",
       "      <td>0.562800</td>\n",
       "    </tr>\n",
       "    <tr>\n",
       "      <th>roc_auc</th>\n",
       "      <td>0.891251</td>\n",
       "    </tr>\n",
       "    <tr>\n",
       "      <th rowspan=\"2\" valign=\"top\">yeast6.csv</th>\n",
       "      <th>pr_auc</th>\n",
       "      <td>0.264845</td>\n",
       "    </tr>\n",
       "    <tr>\n",
       "      <th>roc_auc</th>\n",
       "      <td>0.688685</td>\n",
       "    </tr>\n",
       "    <tr>\n",
       "      <th rowspan=\"16\" valign=\"top\">single</th>\n",
       "      <th rowspan=\"2\" valign=\"top\">abalone9-18.csv</th>\n",
       "      <th>pr_auc</th>\n",
       "      <td>0.588354</td>\n",
       "    </tr>\n",
       "    <tr>\n",
       "      <th>roc_auc</th>\n",
       "      <td>0.777829</td>\n",
       "    </tr>\n",
       "    <tr>\n",
       "      <th rowspan=\"2\" valign=\"top\">shuttle-c0-vs-c4.csv</th>\n",
       "      <th>pr_auc</th>\n",
       "      <td>0.999962</td>\n",
       "    </tr>\n",
       "    <tr>\n",
       "      <th>roc_auc</th>\n",
       "      <td>0.999983</td>\n",
       "    </tr>\n",
       "    <tr>\n",
       "      <th rowspan=\"2\" valign=\"top\">vowel0.csv</th>\n",
       "      <th>pr_auc</th>\n",
       "      <td>0.738254</td>\n",
       "    </tr>\n",
       "    <tr>\n",
       "      <th>roc_auc</th>\n",
       "      <td>0.767654</td>\n",
       "    </tr>\n",
       "    <tr>\n",
       "      <th rowspan=\"2\" valign=\"top\">wine.csv</th>\n",
       "      <th>pr_auc</th>\n",
       "      <td>0.437296</td>\n",
       "    </tr>\n",
       "    <tr>\n",
       "      <th>roc_auc</th>\n",
       "      <td>0.729754</td>\n",
       "    </tr>\n",
       "    <tr>\n",
       "      <th rowspan=\"2\" valign=\"top\">yeast-1-2-8-9_vs_7.csv</th>\n",
       "      <th>pr_auc</th>\n",
       "      <td>0.183450</td>\n",
       "    </tr>\n",
       "    <tr>\n",
       "      <th>roc_auc</th>\n",
       "      <td>0.538996</td>\n",
       "    </tr>\n",
       "    <tr>\n",
       "      <th rowspan=\"2\" valign=\"top\">yeast4.csv</th>\n",
       "      <th>pr_auc</th>\n",
       "      <td>0.283738</td>\n",
       "    </tr>\n",
       "    <tr>\n",
       "      <th>roc_auc</th>\n",
       "      <td>0.687763</td>\n",
       "    </tr>\n",
       "    <tr>\n",
       "      <th rowspan=\"2\" valign=\"top\">yeast5.csv</th>\n",
       "      <th>pr_auc</th>\n",
       "      <td>0.518167</td>\n",
       "    </tr>\n",
       "    <tr>\n",
       "      <th>roc_auc</th>\n",
       "      <td>0.887533</td>\n",
       "    </tr>\n",
       "    <tr>\n",
       "      <th rowspan=\"2\" valign=\"top\">yeast6.csv</th>\n",
       "      <th>pr_auc</th>\n",
       "      <td>0.225004</td>\n",
       "    </tr>\n",
       "    <tr>\n",
       "      <th>roc_auc</th>\n",
       "      <td>0.684238</td>\n",
       "    </tr>\n",
       "  </tbody>\n",
       "</table>\n",
       "</div>"
      ],
      "text/plain": [
       "                                                 value\n",
       "model         data                   score            \n",
       "ensemble(min) abalone9-18.csv        pr_auc   0.623803\n",
       "                                     roc_auc  0.799756\n",
       "              shuttle-c0-vs-c4.csv   pr_auc   1.000000\n",
       "                                     roc_auc  1.000000\n",
       "              vowel0.csv             pr_auc   0.633760\n",
       "                                     roc_auc  0.680439\n",
       "              wine.csv               pr_auc   0.422592\n",
       "                                     roc_auc  0.726827\n",
       "              yeast-1-2-8-9_vs_7.csv pr_auc   0.180754\n",
       "                                     roc_auc  0.532206\n",
       "              yeast4.csv             pr_auc   0.291928\n",
       "                                     roc_auc  0.706065\n",
       "              yeast5.csv             pr_auc   0.562800\n",
       "                                     roc_auc  0.891251\n",
       "              yeast6.csv             pr_auc   0.264845\n",
       "                                     roc_auc  0.688685\n",
       "single        abalone9-18.csv        pr_auc   0.588354\n",
       "                                     roc_auc  0.777829\n",
       "              shuttle-c0-vs-c4.csv   pr_auc   0.999962\n",
       "                                     roc_auc  0.999983\n",
       "              vowel0.csv             pr_auc   0.738254\n",
       "                                     roc_auc  0.767654\n",
       "              wine.csv               pr_auc   0.437296\n",
       "                                     roc_auc  0.729754\n",
       "              yeast-1-2-8-9_vs_7.csv pr_auc   0.183450\n",
       "                                     roc_auc  0.538996\n",
       "              yeast4.csv             pr_auc   0.283738\n",
       "                                     roc_auc  0.687763\n",
       "              yeast5.csv             pr_auc   0.518167\n",
       "                                     roc_auc  0.887533\n",
       "              yeast6.csv             pr_auc   0.225004\n",
       "                                     roc_auc  0.684238"
      ]
     },
     "execution_count": 75,
     "metadata": {},
     "output_type": "execute_result"
    }
   ],
   "source": [
    "tabular_df.groupby(['model','data','score']).mean()"
   ]
  },
  {
   "cell_type": "code",
   "execution_count": 53,
   "metadata": {},
   "outputs": [
    {
     "data": {
      "image/png": "[encoded data removed]",
      "text/plain": [
       "<Figure size 504x360 with 1 Axes>"
      ]
     },
     "metadata": {
      "needs_background": "light"
     },
     "output_type": "display_data"
    }
   ],
   "source": [
    "plt.figure(figsize=(7,5))\n",
    "sns.boxplot(data=tabular_df.loc[tabular_df['score']=='roc_auc', :], y='data', x='value',hue='model')\n",
    "plt.yticks(np.arange(8), ['abalone','shuttle','vowel','wine','yeast1','yeast2','yeast3','yeast4'])\n",
    "plt.xlabel('AUCROC')\n",
    "plt.title('Semi-Supervised Learning')\n",
    "plt.show()"
   ]
  },
  {
   "cell_type": "code",
   "execution_count": 54,
   "metadata": {},
   "outputs": [
    {
     "data": {
      "image/png": "[encoded data removed]",
      "text/plain": [
       "<Figure size 504x360 with 1 Axes>"
      ]
     },
     "metadata": {
      "needs_background": "light"
     },
     "output_type": "display_data"
    }
   ],
   "source": [
    "plt.figure(figsize=(7,5))\n",
    "sns.boxplot(data=tabular_df.loc[tabular_df['score']=='pr_auc', :], y='data', x='value',hue='model')\n",
    "plt.yticks(np.arange(8), ['abalone','shuttle','vowel','wine','yeast1','yeast2','yeast3','yeast4'])\n",
    "plt.xlabel('AUCPR')\n",
    "plt.title('Semi-Supervised Learning')\n",
    "plt.show()"
   ]
  },
  {
   "cell_type": "code",
   "execution_count": 7,
   "metadata": {},
   "outputs": [],
   "source": [
    "ensemble_paths = ['./ensemble_sim_1/', './ensemble_sim_2/',  './ensemble_sim_3/']\n",
    "single_path = './run_result_sim/'\n",
    "single_n = -1\n",
    "data_list = [d for d in os.listdir('./sim_data') if 'small' in d and '05' not in d and '.csv' in d]\n",
    "methods = ['min', 'max', 'max', 'median', 'max', 'min', 'median', 'max']\n",
    "\n",
    "def get_boxplot_df_2(ensemble_paths, data_path, single_path, single_n, data_list, methods):\n",
    "    df = pd.DataFrame(columns=['model', 'data','score','value'])\n",
    "    i = 0\n",
    "    for data_name in data_list:\n",
    "        # ensemble\n",
    "        for ensemble_path in ensemble_paths:\n",
    "            result_df = get_ensemble_result(ensemble_path, data_path, data_name)\n",
    "            for d in zip(result_df[methods[i]].index, result_df[methods[i]].values):\n",
    "                df = df.append(\n",
    "                    {\n",
    "                        'model': 'ensemble',\n",
    "                        'data': data_name,\n",
    "                        'score': d[0],\n",
    "                        'value': d[1]\n",
    "                    },\n",
    "                    ignore_index=True\n",
    "                )\n",
    "        i += 1\n",
    "        # single\n",
    "        single_df = pd.read_csv(single_path + 'result_' +  data_name)\n",
    "        single_df = single_df.loc[single_df['trainer_name']=='NewTrainer',  ['roc_auc','pr_auc']]\n",
    "        if single_n == -1:\n",
    "            new_pr = single_df.sort_values('pr_auc', ascending=False)\n",
    "            new_roc  = single_df.sort_values('roc_auc', ascending=False)\n",
    "        else:\n",
    "            new_pr = single_df.sort_values('pr_auc', ascending=False).head(single_n)\n",
    "            new_roc  = single_df.sort_values('roc_auc', ascending=False).head(single_n)\n",
    "        print(f'single model의 갯수 = {len(single_df)}')\n",
    "        for pr_auc in new_pr['pr_auc']:\n",
    "            df = df.append(\n",
    "                    {\n",
    "                        'model': 'single',\n",
    "                        'data': data_name,\n",
    "                        'score': 'pr_auc',\n",
    "                        'value': pr_auc\n",
    "                    },\n",
    "                    ignore_index=True\n",
    "                )\n",
    "        for roc_auc in new_roc['roc_auc']:\n",
    "                df = df.append(\n",
    "                    {\n",
    "                        'model': 'single',\n",
    "                        'data': data_name,\n",
    "                        'score': 'roc_auc',\n",
    "                        'value': roc_auc\n",
    "                    },\n",
    "                    ignore_index=True\n",
    "                )\n",
    "    \n",
    "    return df"
   ]
  },
  {
   "cell_type": "code",
   "execution_count": 12,
   "metadata": {},
   "outputs": [
    {
     "name": "stdout",
     "output_type": "stream",
     "text": [
      "single model의 갯수 = 35\n",
      "single model의 갯수 = 24\n",
      "single model의 갯수 = 24\n",
      "single model의 갯수 = 24\n",
      "single model의 갯수 = 24\n",
      "single model의 갯수 = 24\n",
      "single model의 갯수 = 24\n",
      "single model의 갯수 = 24\n"
     ]
    },
    {
     "data": {
      "image/png": "[encoded data removed]",
      "text/plain": [
       "<Figure size 504x360 with 1 Axes>"
      ]
     },
     "metadata": {
      "needs_background": "light"
     },
     "output_type": "display_data"
    }
   ],
   "source": [
    "ensemble_paths = ['./ensemble_tabular_1/', './ensemble_tabular_2/',  './ensemble_tabular_3/']\n",
    "data_path = './tabular_data/'\n",
    "single_path = './run_result_tabular/'\n",
    "single_n = len(ensemble_paths) * 8\n",
    "data_list = os.listdir('./tabular_data')\n",
    "methods = ['min', 'max', 'max', 'median', 'max', 'min', 'median', 'max']\n",
    "\n",
    "tabular_df = get_boxplot_df_2(ensemble_paths, data_path, single_path, single_n, data_list, methods)\n",
    "\n",
    "plt.figure(figsize=(7,5))\n",
    "sns.boxplot(data=tabular_df.loc[tabular_df['score']=='roc_auc', :], y='data', x='value',hue='model')\n",
    "plt.yticks(np.arange(8), ['abalone','shuttle','vowel','wine','yeast1','yeast2','yeast3','yeast4'])\n",
    "plt.xlabel('AUCROC')\n",
    "plt.title('Semi-Supervised Learning')\n",
    "plt.show()"
   ]
  },
  {
   "cell_type": "code",
   "execution_count": 13,
   "metadata": {},
   "outputs": [
    {
     "name": "stdout",
     "output_type": "stream",
     "text": [
      "single model의 갯수 = 35\n",
      "single model의 갯수 = 24\n",
      "single model의 갯수 = 24\n",
      "single model의 갯수 = 24\n",
      "single model의 갯수 = 24\n",
      "single model의 갯수 = 24\n",
      "single model의 갯수 = 24\n",
      "single model의 갯수 = 24\n"
     ]
    },
    {
     "data": {
      "image/png": "[encoded data removed]",
      "text/plain": [
       "<Figure size 504x360 with 1 Axes>"
      ]
     },
     "metadata": {
      "needs_background": "light"
     },
     "output_type": "display_data"
    }
   ],
   "source": [
    "ensemble_paths = ['./ensemble_tabular_1/', './ensemble_tabular_2/',  './ensemble_tabular_3/']\n",
    "data_path = './tabular_data/'\n",
    "single_path = './run_result_tabular/'\n",
    "single_n = len(ensemble_paths) * 8\n",
    "data_list = os.listdir('./tabular_data')\n",
    "methods = ['min', 'max', 'max', 'median', 'max', 'min', 'min', 'min']\n",
    "\n",
    "tabular_df = get_boxplot_df_2(ensemble_paths, data_path, single_path, single_n, data_list, methods)\n",
    "\n",
    "plt.figure(figsize=(7,5))\n",
    "sns.boxplot(data=tabular_df.loc[tabular_df['score']=='pr_auc', :], y='data', x='value',hue='model')\n",
    "plt.yticks(np.arange(8), ['abalone','shuttle','vowel','wine','yeast1','yeast2','yeast3','yeast4'])\n",
    "plt.xlabel('AUCPR')\n",
    "plt.title('Semi-Supervised Learning')\n",
    "plt.show()"
   ]
  },
  {
   "cell_type": "code",
   "execution_count": null,
   "metadata": {},
   "outputs": [],
   "source": []
  }
 ],
 "metadata": {
  "interpreter": {
   "hash": "4829241e38f97ce9549fd9dd142f37034ca40da852944784ae6a4626739d5593"
  },
  "kernelspec": {
   "display_name": "Python 3.8.3 64-bit ('pytorch': conda)",
   "language": "python",
   "name": "python3"
  },
  "language_info": {
   "codemirror_mode": {
    "name": "ipython",
    "version": 3
   },
   "file_extension": ".py",
   "mimetype": "text/x-python",
   "name": "python",
   "nbconvert_exporter": "python",
   "pygments_lexer": "ipython3",
   "version": "3.8.3"
  },
  "orig_nbformat": 4
 },
 "nbformat": 4,
 "nbformat_minor": 2
}
