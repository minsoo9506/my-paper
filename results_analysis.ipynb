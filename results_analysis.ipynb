{
 "cells": [
  {
   "cell_type": "code",
   "execution_count": 1,
   "metadata": {},
   "outputs": [],
   "source": [
    "import pandas as pd"
   ]
  },
  {
   "cell_type": "code",
   "execution_count": 2,
   "metadata": {},
   "outputs": [],
   "source": [
    "result_001 = pd.read_csv('run_results/result_001_UCR_Anomaly_DISTORTED1sddb40_35000_52000_52620.csv')"
   ]
  },
  {
   "cell_type": "code",
   "execution_count": 6,
   "metadata": {},
   "outputs": [
    {
     "data": {
      "text/plain": [
       "Index(['trainer_name', 'now', 'return_epoch', 'hidden_size', 'train_loss',\n",
       "       'val_loss', 'avg_train_anomaly_score', 'std_train_anomaly_score',\n",
       "       'avg_val_anomaly_score', 'std_val_anomaly_score',\n",
       "       'avg_test_anomaly_score', 'std_test_anomaly_score',\n",
       "       'avg_true_anomaly_score', 'std_true_anomaly_score', 'accuracy',\n",
       "       'precision', 'recall', 'f1_score', 'roc_auc', 'threshold', 'config'],\n",
       "      dtype='object')"
      ]
     },
     "execution_count": 6,
     "metadata": {},
     "output_type": "execute_result"
    }
   ],
   "source": [
    "result_001.columns"
   ]
  },
  {
   "cell_type": "code",
   "execution_count": 14,
   "metadata": {},
   "outputs": [
    {
     "data": {
      "text/plain": [
       "(84, 21)"
      ]
     },
     "execution_count": 14,
     "metadata": {},
     "output_type": "execute_result"
    }
   ],
   "source": [
    "result_001.shape"
   ]
  },
  {
   "cell_type": "code",
   "execution_count": 16,
   "metadata": {},
   "outputs": [
    {
     "data": {
      "text/html": [
       "<div>\n",
       "<style scoped>\n",
       "    .dataframe tbody tr th:only-of-type {\n",
       "        vertical-align: middle;\n",
       "    }\n",
       "\n",
       "    .dataframe tbody tr th {\n",
       "        vertical-align: top;\n",
       "    }\n",
       "\n",
       "    .dataframe thead th {\n",
       "        text-align: right;\n",
       "    }\n",
       "</style>\n",
       "<table border=\"1\" class=\"dataframe\">\n",
       "  <thead>\n",
       "    <tr style=\"text-align: right;\">\n",
       "      <th></th>\n",
       "      <th>trainer_name</th>\n",
       "      <th>now</th>\n",
       "      <th>return_epoch</th>\n",
       "      <th>hidden_size</th>\n",
       "      <th>train_loss</th>\n",
       "      <th>val_loss</th>\n",
       "      <th>avg_train_anomaly_score</th>\n",
       "      <th>std_train_anomaly_score</th>\n",
       "      <th>avg_val_anomaly_score</th>\n",
       "      <th>std_val_anomaly_score</th>\n",
       "      <th>...</th>\n",
       "      <th>std_test_anomaly_score</th>\n",
       "      <th>avg_true_anomaly_score</th>\n",
       "      <th>std_true_anomaly_score</th>\n",
       "      <th>accuracy</th>\n",
       "      <th>precision</th>\n",
       "      <th>recall</th>\n",
       "      <th>f1_score</th>\n",
       "      <th>roc_auc</th>\n",
       "      <th>threshold</th>\n",
       "      <th>config</th>\n",
       "    </tr>\n",
       "  </thead>\n",
       "  <tbody>\n",
       "    <tr>\n",
       "      <th>27</th>\n",
       "      <td>NewTrainer</td>\n",
       "      <td>2021-12-28 00:06:36.000418</td>\n",
       "      <td>13</td>\n",
       "      <td>2</td>\n",
       "      <td>0.7134</td>\n",
       "      <td>0.6461</td>\n",
       "      <td>0.4832</td>\n",
       "      <td>0.3641</td>\n",
       "      <td>0.4832</td>\n",
       "      <td>0.3641</td>\n",
       "      <td>...</td>\n",
       "      <td>0.3641</td>\n",
       "      <td>0.8174</td>\n",
       "      <td>0.6511</td>\n",
       "      <td>0.9833</td>\n",
       "      <td>0.4859</td>\n",
       "      <td>0.1865</td>\n",
       "      <td>0.2695</td>\n",
       "      <td>0.6585</td>\n",
       "      <td>1.5754</td>\n",
       "      <td>Namespace(batch_size=256, data_name='001_UCR_A...</td>\n",
       "    </tr>\n",
       "    <tr>\n",
       "      <th>26</th>\n",
       "      <td>NewTrainer</td>\n",
       "      <td>2021-12-28 00:06:36.000418</td>\n",
       "      <td>13</td>\n",
       "      <td>2</td>\n",
       "      <td>0.7134</td>\n",
       "      <td>0.6461</td>\n",
       "      <td>0.4832</td>\n",
       "      <td>0.3641</td>\n",
       "      <td>0.4832</td>\n",
       "      <td>0.3641</td>\n",
       "      <td>...</td>\n",
       "      <td>0.3641</td>\n",
       "      <td>0.8174</td>\n",
       "      <td>0.6511</td>\n",
       "      <td>0.9801</td>\n",
       "      <td>0.3404</td>\n",
       "      <td>0.2176</td>\n",
       "      <td>0.2655</td>\n",
       "      <td>0.6585</td>\n",
       "      <td>1.3934</td>\n",
       "      <td>Namespace(batch_size=256, data_name='001_UCR_A...</td>\n",
       "    </tr>\n",
       "    <tr>\n",
       "      <th>83</th>\n",
       "      <td>NewTrainer</td>\n",
       "      <td>2021-12-28 00:10:01.696505</td>\n",
       "      <td>21</td>\n",
       "      <td>8</td>\n",
       "      <td>0.4470</td>\n",
       "      <td>0.3617</td>\n",
       "      <td>0.3101</td>\n",
       "      <td>0.2343</td>\n",
       "      <td>0.3101</td>\n",
       "      <td>0.2343</td>\n",
       "      <td>...</td>\n",
       "      <td>0.2343</td>\n",
       "      <td>0.8565</td>\n",
       "      <td>0.8915</td>\n",
       "      <td>0.9671</td>\n",
       "      <td>0.1924</td>\n",
       "      <td>0.3095</td>\n",
       "      <td>0.2373</td>\n",
       "      <td>0.6578</td>\n",
       "      <td>1.0131</td>\n",
       "      <td>Namespace(batch_size=256, data_name='001_UCR_A...</td>\n",
       "    </tr>\n",
       "    <tr>\n",
       "      <th>34</th>\n",
       "      <td>NewTrainer</td>\n",
       "      <td>2021-12-28 00:06:58.471837</td>\n",
       "      <td>34</td>\n",
       "      <td>2</td>\n",
       "      <td>0.4278</td>\n",
       "      <td>0.3705</td>\n",
       "      <td>0.3072</td>\n",
       "      <td>0.2273</td>\n",
       "      <td>0.3072</td>\n",
       "      <td>0.2273</td>\n",
       "      <td>...</td>\n",
       "      <td>0.2273</td>\n",
       "      <td>0.8097</td>\n",
       "      <td>0.8213</td>\n",
       "      <td>0.9630</td>\n",
       "      <td>0.1656</td>\n",
       "      <td>0.3054</td>\n",
       "      <td>0.2147</td>\n",
       "      <td>0.6607</td>\n",
       "      <td>0.9890</td>\n",
       "      <td>Namespace(batch_size=256, data_name='001_UCR_A...</td>\n",
       "    </tr>\n",
       "    <tr>\n",
       "      <th>62</th>\n",
       "      <td>NewTrainer</td>\n",
       "      <td>2021-12-28 00:09:03.679468</td>\n",
       "      <td>56</td>\n",
       "      <td>4</td>\n",
       "      <td>0.4164</td>\n",
       "      <td>0.3458</td>\n",
       "      <td>0.3000</td>\n",
       "      <td>0.2079</td>\n",
       "      <td>0.3000</td>\n",
       "      <td>0.2079</td>\n",
       "      <td>...</td>\n",
       "      <td>0.2079</td>\n",
       "      <td>0.8062</td>\n",
       "      <td>0.8243</td>\n",
       "      <td>0.9610</td>\n",
       "      <td>0.1609</td>\n",
       "      <td>0.3216</td>\n",
       "      <td>0.2145</td>\n",
       "      <td>0.6472</td>\n",
       "      <td>0.9237</td>\n",
       "      <td>Namespace(batch_size=256, data_name='001_UCR_A...</td>\n",
       "    </tr>\n",
       "    <tr>\n",
       "      <th>...</th>\n",
       "      <td>...</td>\n",
       "      <td>...</td>\n",
       "      <td>...</td>\n",
       "      <td>...</td>\n",
       "      <td>...</td>\n",
       "      <td>...</td>\n",
       "      <td>...</td>\n",
       "      <td>...</td>\n",
       "      <td>...</td>\n",
       "      <td>...</td>\n",
       "      <td>...</td>\n",
       "      <td>...</td>\n",
       "      <td>...</td>\n",
       "      <td>...</td>\n",
       "      <td>...</td>\n",
       "      <td>...</td>\n",
       "      <td>...</td>\n",
       "      <td>...</td>\n",
       "      <td>...</td>\n",
       "      <td>...</td>\n",
       "      <td>...</td>\n",
       "    </tr>\n",
       "    <tr>\n",
       "      <th>28</th>\n",
       "      <td>NewTrainer</td>\n",
       "      <td>2021-12-28 00:06:58.471837</td>\n",
       "      <td>34</td>\n",
       "      <td>2</td>\n",
       "      <td>0.4278</td>\n",
       "      <td>0.3705</td>\n",
       "      <td>0.3072</td>\n",
       "      <td>0.2273</td>\n",
       "      <td>0.3072</td>\n",
       "      <td>0.2273</td>\n",
       "      <td>...</td>\n",
       "      <td>0.2273</td>\n",
       "      <td>0.8097</td>\n",
       "      <td>0.8213</td>\n",
       "      <td>0.6134</td>\n",
       "      <td>0.0232</td>\n",
       "      <td>0.5432</td>\n",
       "      <td>0.0444</td>\n",
       "      <td>0.6607</td>\n",
       "      <td>0.3072</td>\n",
       "      <td>Namespace(batch_size=256, data_name='001_UCR_A...</td>\n",
       "    </tr>\n",
       "    <tr>\n",
       "      <th>14</th>\n",
       "      <td>BaseTrainer</td>\n",
       "      <td>2021-12-28 00:04:02.121597</td>\n",
       "      <td>56</td>\n",
       "      <td>8</td>\n",
       "      <td>0.3698</td>\n",
       "      <td>0.3292</td>\n",
       "      <td>0.2710</td>\n",
       "      <td>0.1948</td>\n",
       "      <td>0.2710</td>\n",
       "      <td>0.1948</td>\n",
       "      <td>...</td>\n",
       "      <td>0.1948</td>\n",
       "      <td>0.7684</td>\n",
       "      <td>0.8017</td>\n",
       "      <td>0.6017</td>\n",
       "      <td>0.0230</td>\n",
       "      <td>0.5568</td>\n",
       "      <td>0.0442</td>\n",
       "      <td>0.6529</td>\n",
       "      <td>0.2710</td>\n",
       "      <td>Namespace(batch_size=256, data_name='001_UCR_A...</td>\n",
       "    </tr>\n",
       "    <tr>\n",
       "      <th>70</th>\n",
       "      <td>NewTrainer</td>\n",
       "      <td>2021-12-28 00:09:47.457466</td>\n",
       "      <td>19</td>\n",
       "      <td>8</td>\n",
       "      <td>0.4504</td>\n",
       "      <td>0.3675</td>\n",
       "      <td>0.3135</td>\n",
       "      <td>0.2329</td>\n",
       "      <td>0.3135</td>\n",
       "      <td>0.2329</td>\n",
       "      <td>...</td>\n",
       "      <td>0.2329</td>\n",
       "      <td>0.7002</td>\n",
       "      <td>0.6480</td>\n",
       "      <td>0.6128</td>\n",
       "      <td>0.0231</td>\n",
       "      <td>0.5419</td>\n",
       "      <td>0.0442</td>\n",
       "      <td>0.6513</td>\n",
       "      <td>0.3135</td>\n",
       "      <td>Namespace(batch_size=256, data_name='001_UCR_A...</td>\n",
       "    </tr>\n",
       "    <tr>\n",
       "      <th>56</th>\n",
       "      <td>NewTrainer</td>\n",
       "      <td>2021-12-28 00:09:03.679468</td>\n",
       "      <td>56</td>\n",
       "      <td>4</td>\n",
       "      <td>0.4164</td>\n",
       "      <td>0.3458</td>\n",
       "      <td>0.3000</td>\n",
       "      <td>0.2079</td>\n",
       "      <td>0.3000</td>\n",
       "      <td>0.2079</td>\n",
       "      <td>...</td>\n",
       "      <td>0.2079</td>\n",
       "      <td>0.8062</td>\n",
       "      <td>0.8243</td>\n",
       "      <td>0.6082</td>\n",
       "      <td>0.0226</td>\n",
       "      <td>0.5378</td>\n",
       "      <td>0.0434</td>\n",
       "      <td>0.6472</td>\n",
       "      <td>0.3000</td>\n",
       "      <td>Namespace(batch_size=256, data_name='001_UCR_A...</td>\n",
       "    </tr>\n",
       "    <tr>\n",
       "      <th>42</th>\n",
       "      <td>NewTrainer</td>\n",
       "      <td>2021-12-28 00:07:49.359995</td>\n",
       "      <td>52</td>\n",
       "      <td>4</td>\n",
       "      <td>0.4120</td>\n",
       "      <td>0.3764</td>\n",
       "      <td>0.3139</td>\n",
       "      <td>0.2304</td>\n",
       "      <td>0.3139</td>\n",
       "      <td>0.2304</td>\n",
       "      <td>...</td>\n",
       "      <td>0.2304</td>\n",
       "      <td>0.8274</td>\n",
       "      <td>0.8580</td>\n",
       "      <td>0.5971</td>\n",
       "      <td>0.0223</td>\n",
       "      <td>0.5459</td>\n",
       "      <td>0.0429</td>\n",
       "      <td>0.6538</td>\n",
       "      <td>0.3139</td>\n",
       "      <td>Namespace(batch_size=256, data_name='001_UCR_A...</td>\n",
       "    </tr>\n",
       "  </tbody>\n",
       "</table>\n",
       "<p>84 rows × 21 columns</p>\n",
       "</div>"
      ],
      "text/plain": [
       "   trainer_name                         now  return_epoch  hidden_size  \\\n",
       "27   NewTrainer  2021-12-28 00:06:36.000418            13            2   \n",
       "26   NewTrainer  2021-12-28 00:06:36.000418            13            2   \n",
       "83   NewTrainer  2021-12-28 00:10:01.696505            21            8   \n",
       "34   NewTrainer  2021-12-28 00:06:58.471837            34            2   \n",
       "62   NewTrainer  2021-12-28 00:09:03.679468            56            4   \n",
       "..          ...                         ...           ...          ...   \n",
       "28   NewTrainer  2021-12-28 00:06:58.471837            34            2   \n",
       "14  BaseTrainer  2021-12-28 00:04:02.121597            56            8   \n",
       "70   NewTrainer  2021-12-28 00:09:47.457466            19            8   \n",
       "56   NewTrainer  2021-12-28 00:09:03.679468            56            4   \n",
       "42   NewTrainer  2021-12-28 00:07:49.359995            52            4   \n",
       "\n",
       "    train_loss  val_loss  avg_train_anomaly_score  std_train_anomaly_score  \\\n",
       "27      0.7134    0.6461                   0.4832                   0.3641   \n",
       "26      0.7134    0.6461                   0.4832                   0.3641   \n",
       "83      0.4470    0.3617                   0.3101                   0.2343   \n",
       "34      0.4278    0.3705                   0.3072                   0.2273   \n",
       "62      0.4164    0.3458                   0.3000                   0.2079   \n",
       "..         ...       ...                      ...                      ...   \n",
       "28      0.4278    0.3705                   0.3072                   0.2273   \n",
       "14      0.3698    0.3292                   0.2710                   0.1948   \n",
       "70      0.4504    0.3675                   0.3135                   0.2329   \n",
       "56      0.4164    0.3458                   0.3000                   0.2079   \n",
       "42      0.4120    0.3764                   0.3139                   0.2304   \n",
       "\n",
       "    avg_val_anomaly_score  std_val_anomaly_score  ...  std_test_anomaly_score  \\\n",
       "27                 0.4832                 0.3641  ...                  0.3641   \n",
       "26                 0.4832                 0.3641  ...                  0.3641   \n",
       "83                 0.3101                 0.2343  ...                  0.2343   \n",
       "34                 0.3072                 0.2273  ...                  0.2273   \n",
       "62                 0.3000                 0.2079  ...                  0.2079   \n",
       "..                    ...                    ...  ...                     ...   \n",
       "28                 0.3072                 0.2273  ...                  0.2273   \n",
       "14                 0.2710                 0.1948  ...                  0.1948   \n",
       "70                 0.3135                 0.2329  ...                  0.2329   \n",
       "56                 0.3000                 0.2079  ...                  0.2079   \n",
       "42                 0.3139                 0.2304  ...                  0.2304   \n",
       "\n",
       "    avg_true_anomaly_score  std_true_anomaly_score  accuracy  precision  \\\n",
       "27                  0.8174                  0.6511    0.9833     0.4859   \n",
       "26                  0.8174                  0.6511    0.9801     0.3404   \n",
       "83                  0.8565                  0.8915    0.9671     0.1924   \n",
       "34                  0.8097                  0.8213    0.9630     0.1656   \n",
       "62                  0.8062                  0.8243    0.9610     0.1609   \n",
       "..                     ...                     ...       ...        ...   \n",
       "28                  0.8097                  0.8213    0.6134     0.0232   \n",
       "14                  0.7684                  0.8017    0.6017     0.0230   \n",
       "70                  0.7002                  0.6480    0.6128     0.0231   \n",
       "56                  0.8062                  0.8243    0.6082     0.0226   \n",
       "42                  0.8274                  0.8580    0.5971     0.0223   \n",
       "\n",
       "    recall  f1_score  roc_auc  threshold  \\\n",
       "27  0.1865    0.2695   0.6585     1.5754   \n",
       "26  0.2176    0.2655   0.6585     1.3934   \n",
       "83  0.3095    0.2373   0.6578     1.0131   \n",
       "34  0.3054    0.2147   0.6607     0.9890   \n",
       "62  0.3216    0.2145   0.6472     0.9237   \n",
       "..     ...       ...      ...        ...   \n",
       "28  0.5432    0.0444   0.6607     0.3072   \n",
       "14  0.5568    0.0442   0.6529     0.2710   \n",
       "70  0.5419    0.0442   0.6513     0.3135   \n",
       "56  0.5378    0.0434   0.6472     0.3000   \n",
       "42  0.5459    0.0429   0.6538     0.3139   \n",
       "\n",
       "                                               config  \n",
       "27  Namespace(batch_size=256, data_name='001_UCR_A...  \n",
       "26  Namespace(batch_size=256, data_name='001_UCR_A...  \n",
       "83  Namespace(batch_size=256, data_name='001_UCR_A...  \n",
       "34  Namespace(batch_size=256, data_name='001_UCR_A...  \n",
       "62  Namespace(batch_size=256, data_name='001_UCR_A...  \n",
       "..                                                ...  \n",
       "28  Namespace(batch_size=256, data_name='001_UCR_A...  \n",
       "14  Namespace(batch_size=256, data_name='001_UCR_A...  \n",
       "70  Namespace(batch_size=256, data_name='001_UCR_A...  \n",
       "56  Namespace(batch_size=256, data_name='001_UCR_A...  \n",
       "42  Namespace(batch_size=256, data_name='001_UCR_A...  \n",
       "\n",
       "[84 rows x 21 columns]"
      ]
     },
     "execution_count": 16,
     "metadata": {},
     "output_type": "execute_result"
    }
   ],
   "source": [
    "result_001.sort_values(['f1_score','roc_auc'], ascending=False)"
   ]
  },
  {
   "cell_type": "code",
   "execution_count": 25,
   "metadata": {},
   "outputs": [],
   "source": [
    "import seaborn as sns\n",
    "import matplotlib.pyplot as plt"
   ]
  },
  {
   "cell_type": "code",
   "execution_count": 21,
   "metadata": {},
   "outputs": [
    {
     "data": {
      "text/plain": [
       "Index(['trainer_name', 'now', 'return_epoch', 'hidden_size', 'train_loss',\n",
       "       'val_loss', 'avg_train_anomaly_score', 'std_train_anomaly_score',\n",
       "       'avg_val_anomaly_score', 'std_val_anomaly_score',\n",
       "       'avg_test_anomaly_score', 'std_test_anomaly_score',\n",
       "       'avg_true_anomaly_score', 'std_true_anomaly_score', 'accuracy',\n",
       "       'precision', 'recall', 'f1_score', 'roc_auc', 'threshold', 'config'],\n",
       "      dtype='object')"
      ]
     },
     "execution_count": 21,
     "metadata": {},
     "output_type": "execute_result"
    }
   ],
   "source": [
    "result_001.columns"
   ]
  },
  {
   "cell_type": "code",
   "execution_count": 29,
   "metadata": {},
   "outputs": [
    {
     "data": {
      "text/plain": [
       "<matplotlib.axes._subplots.AxesSubplot at 0x139beb6cd00>"
      ]
     },
     "execution_count": 29,
     "metadata": {},
     "output_type": "execute_result"
    },
    {
     "data": {
      "image/png": "[encoded data removed]",
      "text/plain": [
       "<Figure size 432x288 with 1 Axes>"
      ]
     },
     "metadata": {
      "needs_background": "light"
     },
     "output_type": "display_data"
    }
   ],
   "source": [
    "sns.boxplot(data=result_001, y='return_epoch', x='trainer_name')"
   ]
  },
  {
   "cell_type": "code",
   "execution_count": 27,
   "metadata": {},
   "outputs": [
    {
     "data": {
      "text/plain": [
       "<matplotlib.axes._subplots.AxesSubplot at 0x139beb6c0d0>"
      ]
     },
     "execution_count": 27,
     "metadata": {},
     "output_type": "execute_result"
    },
    {
     "data": {
      "image/png": "[encoded data removed]",
      "text/plain": [
       "<Figure size 864x864 with 4 Axes>"
      ]
     },
     "metadata": {
      "needs_background": "light"
     },
     "output_type": "display_data"
    }
   ],
   "source": [
    "plt.figure(figsize=(12,12))\n",
    "\n",
    "plt.subplot(221)\n",
    "sns.boxplot(data=result_001, y='avg_train_anomaly_score', x='trainer_name')\n",
    "plt.subplot(222)\n",
    "sns.boxplot(data=result_001, y='avg_val_anomaly_score', x='trainer_name')\n",
    "plt.subplot(223)\n",
    "sns.boxplot(data=result_001, y='avg_test_anomaly_score', x='trainer_name')\n",
    "plt.subplot(224)\n",
    "sns.boxplot(data=result_001, y='avg_true_anomaly_score', x='trainer_name')"
   ]
  },
  {
   "cell_type": "code",
   "execution_count": 28,
   "metadata": {},
   "outputs": [
    {
     "data": {
      "text/plain": [
       "<matplotlib.axes._subplots.AxesSubplot at 0x139becafe80>"
      ]
     },
     "execution_count": 28,
     "metadata": {},
     "output_type": "execute_result"
    },
    {
     "data": {
      "image/png": "[encoded data removed]",
      "text/plain": [
       "<Figure size 864x864 with 4 Axes>"
      ]
     },
     "metadata": {
      "needs_background": "light"
     },
     "output_type": "display_data"
    }
   ],
   "source": [
    "plt.figure(figsize=(12,12))\n",
    "\n",
    "plt.subplot(221)\n",
    "sns.boxplot(data=result_001, y='std_train_anomaly_score', x='trainer_name')\n",
    "plt.subplot(222)\n",
    "sns.boxplot(data=result_001, y='std_val_anomaly_score', x='trainer_name')\n",
    "plt.subplot(223)\n",
    "sns.boxplot(data=result_001, y='std_test_anomaly_score', x='trainer_name')\n",
    "plt.subplot(224)\n",
    "sns.boxplot(data=result_001, y='std_true_anomaly_score', x='trainer_name')"
   ]
  },
  {
   "cell_type": "code",
   "execution_count": 31,
   "metadata": {},
   "outputs": [
    {
     "data": {
      "text/plain": [
       "<matplotlib.axes._subplots.AxesSubplot at 0x139bef98d90>"
      ]
     },
     "execution_count": 31,
     "metadata": {},
     "output_type": "execute_result"
    },
    {
     "data": {
      "image/png": "[encoded data removed]",
      "text/plain": [
       "<Figure size 864x864 with 4 Axes>"
      ]
     },
     "metadata": {
      "needs_background": "light"
     },
     "output_type": "display_data"
    }
   ],
   "source": [
    "plt.figure(figsize=(12,12))\n",
    "\n",
    "plt.subplot(221)\n",
    "sns.boxplot(data=result_001, y='accuracy', x='trainer_name')\n",
    "plt.subplot(222)\n",
    "sns.boxplot(data=result_001, y='precision', x='trainer_name')\n",
    "plt.subplot(223)\n",
    "sns.boxplot(data=result_001, y='recall', x='trainer_name')\n",
    "plt.subplot(224)\n",
    "sns.boxplot(data=result_001, y='f1_score', x='trainer_name')"
   ]
  },
  {
   "cell_type": "code",
   "execution_count": 32,
   "metadata": {},
   "outputs": [
    {
     "data": {
      "text/plain": [
       "<matplotlib.axes._subplots.AxesSubplot at 0x139bee65280>"
      ]
     },
     "execution_count": 32,
     "metadata": {},
     "output_type": "execute_result"
    },
    {
     "data": {
      "image/png": "[encoded data removed]",
      "text/plain": [
       "<Figure size 432x288 with 1 Axes>"
      ]
     },
     "metadata": {
      "needs_background": "light"
     },
     "output_type": "display_data"
    }
   ],
   "source": [
    "sns.boxplot(data=result_001, y='roc_auc', x='trainer_name')"
   ]
  }
 ],
 "metadata": {
  "interpreter": {
   "hash": "4829241e38f97ce9549fd9dd142f37034ca40da852944784ae6a4626739d5593"
  },
  "kernelspec": {
   "display_name": "Python 3.8.3 64-bit ('pytorch': conda)",
   "language": "python",
   "name": "python3"
  },
  "language_info": {
   "codemirror_mode": {
    "name": "ipython",
    "version": 3
   },
   "file_extension": ".py",
   "mimetype": "text/x-python",
   "name": "python",
   "nbconvert_exporter": "python",
   "pygments_lexer": "ipython3",
   "version": "3.8.3"
  },
  "orig_nbformat": 4
 },
 "nbformat": 4,
 "nbformat_minor": 2
}
