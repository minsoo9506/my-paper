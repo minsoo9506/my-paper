{
 "cells": [
  {
   "cell_type": "code",
   "execution_count": 39,
   "metadata": {},
   "outputs": [],
   "source": [
    "import pandas as pd\n",
    "import numpy as np\n",
    "import matplotlib.pyplot as plt\n",
    "import seaborn as sns\n",
    "import os\n",
    "import pickle\n",
    "from sklearn.metrics import roc_auc_score, precision_recall_curve, auc"
   ]
  },
  {
   "cell_type": "code",
   "execution_count": 5,
   "metadata": {},
   "outputs": [],
   "source": [
    "sim_result_path = './0409_run_result_sim/'\n",
    "sim_ensemble_path = './0409_ensemble_sim_1/'\n",
    "tabular_result_path = './0410_run_result_tabular/'\n",
    "tabular_ensemble_path = './0410_ensemble_sim_1/'"
   ]
  },
  {
   "cell_type": "markdown",
   "metadata": {},
   "source": [
    "# simulation"
   ]
  },
  {
   "cell_type": "code",
   "execution_count": 12,
   "metadata": {},
   "outputs": [
    {
     "name": "stdout",
     "output_type": "stream",
     "text": [
      "result_smallNormal.csv\n",
      "                                                        roc_auc  pr_auc\n",
      "                                                           mean    mean\n",
      "trainer_name sampling_term sampling_ratio initial_epoch                \n",
      "BaseTrainer  0             0.00           0              0.8277  0.7944\n",
      "NewTrainer   1             0.01           5              0.8605  0.8249\n",
      "                                          20             0.8515  0.8299\n",
      "                           0.10           5              0.8224  0.7831\n",
      "                                          20             0.8335  0.8008\n",
      "             5             0.01           5              0.8352  0.8052\n",
      "                                          20             0.8211  0.7834\n",
      "                           0.10           5              0.8437  0.8096\n",
      "                                          20             0.8372  0.8121\n",
      "result_smallTestNoise_010_01.csv\n",
      "                                                        roc_auc  pr_auc\n",
      "                                                           mean    mean\n",
      "trainer_name sampling_term sampling_ratio initial_epoch                \n",
      "BaseTrainer  0             0.00           0              0.8135  0.7757\n",
      "NewTrainer   1             0.01           5              0.8040  0.7578\n",
      "                                          20             0.8242  0.7925\n",
      "                           0.10           5              0.8174  0.7814\n",
      "                                          20             0.8343  0.7965\n",
      "             5             0.01           5              0.8216  0.7832\n",
      "                                          20             0.8193  0.7835\n",
      "                           0.10           5              0.8294  0.7946\n",
      "                                          20             0.8506  0.8348\n",
      "result_smallTestNoise_010_09.csv\n",
      "                                                        roc_auc  pr_auc\n",
      "                                                           mean    mean\n",
      "trainer_name sampling_term sampling_ratio initial_epoch                \n",
      "BaseTrainer  0             0.00           0              0.7892  0.7601\n",
      "NewTrainer   1             0.01           5              0.8235  0.8163\n",
      "                                          20             0.7865  0.7616\n",
      "                           0.10           5              0.7909  0.7583\n",
      "                                          20             0.7735  0.7424\n",
      "             5             0.01           5              0.7988  0.7797\n",
      "                                          20             0.7897  0.7652\n",
      "                           0.10           5              0.7817  0.7520\n",
      "                                          20             0.7935  0.7697\n",
      "result_smallTrainNoise_001_01.csv\n",
      "                                                        roc_auc  pr_auc\n",
      "                                                           mean    mean\n",
      "trainer_name sampling_term sampling_ratio initial_epoch                \n",
      "BaseTrainer  0             0.00           0              0.8439  0.8145\n",
      "NewTrainer   1             0.01           5              0.8212  0.7856\n",
      "                                          20             0.8438  0.8070\n",
      "                           0.10           5              0.8722  0.8581\n",
      "                                          20             0.8434  0.8162\n",
      "             5             0.01           5              0.8371  0.8033\n",
      "                                          20             0.8335  0.8018\n",
      "                           0.10           5              0.8320  0.7971\n",
      "                                          20             0.8331  0.7918\n",
      "result_smallTrainNoise_001_09.csv\n",
      "                                                        roc_auc  pr_auc\n",
      "                                                           mean    mean\n",
      "trainer_name sampling_term sampling_ratio initial_epoch                \n",
      "BaseTrainer  0             0.00           0              0.8242  0.7855\n",
      "NewTrainer   1             0.01           5              0.8205  0.7794\n",
      "                                          20             0.8330  0.7983\n",
      "                           0.10           5              0.8019  0.7561\n",
      "                                          20             0.8129  0.7712\n",
      "             5             0.01           5              0.8047  0.7584\n",
      "                                          20             0.8539  0.8215\n",
      "                           0.10           5              0.8153  0.7776\n",
      "                                          20             0.8277  0.7893\n",
      "result_smallTrainNoise_010_01.csv\n",
      "                                                        roc_auc  pr_auc\n",
      "                                                           mean    mean\n",
      "trainer_name sampling_term sampling_ratio initial_epoch                \n",
      "BaseTrainer  0             0.00           0              0.8268  0.7877\n",
      "NewTrainer   1             0.01           5              0.8424  0.8064\n",
      "                                          20             0.8216  0.7816\n",
      "                           0.10           5              0.8243  0.7888\n",
      "                                          20             0.8298  0.7904\n",
      "             5             0.01           5              0.8218  0.7810\n",
      "                                          20             0.8288  0.7960\n",
      "                           0.10           5              0.8380  0.8011\n",
      "                                          20             0.8337  0.7926\n",
      "result_smallTrainNoise_010_09.csv\n",
      "                                                        roc_auc  pr_auc\n",
      "                                                           mean    mean\n",
      "trainer_name sampling_term sampling_ratio initial_epoch                \n",
      "BaseTrainer  0             0.00           0              0.7824  0.7259\n",
      "NewTrainer   1             0.01           5              0.7845  0.7301\n",
      "                                          20             0.7913  0.7364\n",
      "                           0.10           5              0.7875  0.7372\n",
      "                                          20             0.7867  0.7314\n",
      "             5             0.01           5              0.7877  0.7373\n",
      "                                          20             0.7913  0.7408\n",
      "                           0.10           5              0.7877  0.7373\n",
      "                                          20             0.7863  0.7337\n"
     ]
    }
   ],
   "source": [
    "cols = ['trainer_name', 'sampling_term','sampling_ratio','initial_epoch']\n",
    "for result in os.listdir(sim_result_path):\n",
    "    data = pd.read_csv(sim_result_path + result)\n",
    "    print(result)\n",
    "    print(data.groupby(cols)[['roc_auc','pr_auc']].agg(['mean']))"
   ]
  },
  {
   "cell_type": "code",
   "execution_count": 15,
   "metadata": {},
   "outputs": [],
   "source": [
    "cols = ['trainer_name', 'sampling_term','sampling_ratio','initial_epoch']\n",
    "for result in os.listdir(sim_result_path):\n",
    "    data = pd.read_csv(sim_result_path + result)\n",
    "    tmp = data.groupby(cols)[['roc_auc','pr_auc']].agg(['mean'])\n",
    "    break"
   ]
  },
  {
   "cell_type": "code",
   "execution_count": 24,
   "metadata": {},
   "outputs": [
    {
     "name": "stdout",
     "output_type": "stream",
     "text": [
      "0.8277 0.7944\n"
     ]
    }
   ],
   "source": [
    "for roc, pr in zip(tmp['roc_auc'].values, tmp['pr_auc'].values):\n",
    "    print(roc[0], pr[0])\n",
    "    break"
   ]
  },
  {
   "cell_type": "code",
   "execution_count": 27,
   "metadata": {},
   "outputs": [],
   "source": [
    "viz_df = pd.DataFrame(columns=['AUCROC','AUCPR','data'])\n",
    "cols = ['trainer_name', 'sampling_term','sampling_ratio','initial_epoch']\n",
    "for result in os.listdir(sim_result_path):\n",
    "    data = pd.read_csv(sim_result_path + result)\n",
    "    data = data.loc[data['trainer_name'] == 'NewTrainer']\n",
    "    tmp = data.groupby(cols)[['roc_auc','pr_auc']].agg(['mean'])\n",
    "    for roc, pr in zip(tmp['roc_auc'].values, tmp['pr_auc'].values):\n",
    "        viz_df = viz_df.append({\n",
    "            'AUCROC': roc[0],\n",
    "            'AUCPR': pr[0],\n",
    "            'data': result\n",
    "        }, ignore_index=True)"
   ]
  },
  {
   "cell_type": "code",
   "execution_count": 40,
   "metadata": {},
   "outputs": [],
   "source": [
    "from sklearn.preprocessing import StandardScaler\n",
    "from sklearn.model_selection import train_test_split\n",
    "\n",
    "def _normalize_tabular(df: pd.DataFrame, label_name: str = \"label\"):\n",
    "    scaler = StandardScaler()\n",
    "    X = scaler.fit_transform(df.drop(label_name, axis=1))\n",
    "    y = df[label_name]\n",
    "    return X, y\n",
    "\n",
    "def simul_split_train_valid_test(df: pd.DataFrame, train_ratio: float = 0.7):\n",
    "    X, y = _normalize_tabular(df)\n",
    "    tmp = pd.DataFrame(X)\n",
    "    tmp[\"label\"] = y\n",
    "    normal = tmp.loc[tmp[\"label\"] == 0, :].reset_index(drop=True)\n",
    "    abnormal = tmp.loc[tmp[\"label\"] == 1, :].reset_index(drop=True)\n",
    "    X_train, X_val_test, y_train, y_val_test = train_test_split(\n",
    "        normal.drop(\"label\", axis=1),\n",
    "        normal[\"label\"],\n",
    "        train_size=train_ratio,\n",
    "        random_state=42,\n",
    "        shuffle=False,\n",
    "    )\n",
    "    \n",
    "    X_val, X_test, y_val, y_test = train_test_split(\n",
    "        X_val_test, y_val_test, train_size=0.5, random_state=42, shuffle=False\n",
    "    )\n",
    "    X_test[\"label\"] = y_test\n",
    "    X_test = pd.concat([X_test, abnormal]).reset_index(drop=True)\n",
    "    return (\n",
    "        X_train.values,\n",
    "        X_val.values,\n",
    "        X_test.drop(\"label\", axis=1).values,\n",
    "        y_train.values,\n",
    "        y_val.values,\n",
    "        X_test[\"label\"].values,\n",
    "    )\n",
    "    \n",
    "def get_ensemble_result(ensemble_PATH= './0409_ensemble_sim_1/', data_path='./sim_data/', name='smallNormal.csv', n_models=8):\n",
    "    data = pd.read_csv(data_path + name)\n",
    "\n",
    "    (\n",
    "        _,\n",
    "        _,\n",
    "        _,\n",
    "        _,\n",
    "        _,\n",
    "        test_y,\n",
    "    ) = simul_split_train_valid_test(data, 0.7)\n",
    "\n",
    "    name = name.split('.')[0]\n",
    "\n",
    "    anomaly_score = np.zeros((len(test_y), n_models))\n",
    "\n",
    "    result_df = pd.DataFrame(columns=['mean','median','max','min'], index=['roc_auc','pr_auc'])\n",
    "\n",
    "\n",
    "    idx = 0\n",
    "    for data_name in os.listdir(ensemble_PATH):\n",
    "        if name in data_name and 'new' in data_name:\n",
    "            with open(ensemble_PATH + data_name, 'rb') as f:\n",
    "                tmp = pickle.load(f)\n",
    "                anomaly_score[:, idx] = tmp\n",
    "                idx += 1\n",
    "\n",
    "    tst_ano_scr_med = np.median(anomaly_score, axis=1)\n",
    "    tst_ano_scr_mean = np.mean(anomaly_score, axis=1)\n",
    "    tst_ano_scr_max = np.max(anomaly_score, axis=1)\n",
    "    tst_ano_scr_min = np.min(anomaly_score, axis=1)\n",
    "\n",
    "    idx = 0\n",
    "    for tst_ano_scr in [tst_ano_scr_mean, tst_ano_scr_med, tst_ano_scr_max, tst_ano_scr_min]:\n",
    "        roc_auc = roc_auc_score(test_y, tst_ano_scr)\n",
    "        _precision, _recall, _ = precision_recall_curve(test_y, tst_ano_scr)\n",
    "        pr_auc = auc(_recall, _precision)\n",
    "        result_df.iloc[0, idx] = roc_auc\n",
    "        result_df.iloc[1, idx] = pr_auc\n",
    "        idx += 1\n",
    "\n",
    "    return result_df"
   ]
  },
  {
   "cell_type": "code",
   "execution_count": 45,
   "metadata": {},
   "outputs": [
    {
     "data": {
      "text/plain": [
       "['smallNormal.csv',\n",
       " 'smallTestNoise_010_01.csv',\n",
       " 'smallTestNoise_010_09.csv',\n",
       " 'smallTrainNoise_001_01.csv',\n",
       " 'smallTrainNoise_001_09.csv',\n",
       " 'smallTrainNoise_010_01.csv',\n",
       " 'smallTrainNoise_010_09.csv']"
      ]
     },
     "execution_count": 45,
     "metadata": {},
     "output_type": "execute_result"
    }
   ],
   "source": [
    "[i for i in os.listdir('./sim_data/') if 'small' in i and '05' not in i and 'csv' in i]"
   ]
  },
  {
   "cell_type": "code",
   "execution_count": 55,
   "metadata": {},
   "outputs": [
    {
     "name": "stderr",
     "output_type": "stream",
     "text": [
      "<ipython-input-40-15a8bf3e8838>:27: SettingWithCopyWarning: \n",
      "A value is trying to be set on a copy of a slice from a DataFrame.\n",
      "Try using .loc[row_indexer,col_indexer] = value instead\n",
      "\n",
      "See the caveats in the documentation: https://pandas.pydata.org/pandas-docs/stable/user_guide/indexing.html#returning-a-view-versus-a-copy\n",
      "  X_test[\"label\"] = y_test\n"
     ]
    },
    {
     "data": {
      "text/html": [
       "<div>\n",
       "<style scoped>\n",
       "    .dataframe tbody tr th:only-of-type {\n",
       "        vertical-align: middle;\n",
       "    }\n",
       "\n",
       "    .dataframe tbody tr th {\n",
       "        vertical-align: top;\n",
       "    }\n",
       "\n",
       "    .dataframe thead th {\n",
       "        text-align: right;\n",
       "    }\n",
       "</style>\n",
       "<table border=\"1\" class=\"dataframe\">\n",
       "  <thead>\n",
       "    <tr style=\"text-align: right;\">\n",
       "      <th></th>\n",
       "      <th>mean</th>\n",
       "      <th>median</th>\n",
       "      <th>max</th>\n",
       "      <th>min</th>\n",
       "    </tr>\n",
       "  </thead>\n",
       "  <tbody>\n",
       "    <tr>\n",
       "      <th>roc_auc</th>\n",
       "      <td>0.852871</td>\n",
       "      <td>0.837451</td>\n",
       "      <td>0.856661</td>\n",
       "      <td>0.858436</td>\n",
       "    </tr>\n",
       "    <tr>\n",
       "      <th>pr_auc</th>\n",
       "      <td>0.827582</td>\n",
       "      <td>0.806278</td>\n",
       "      <td>0.83077</td>\n",
       "      <td>0.833234</td>\n",
       "    </tr>\n",
       "  </tbody>\n",
       "</table>\n",
       "</div>"
      ],
      "text/plain": [
       "             mean    median       max       min\n",
       "roc_auc  0.852871  0.837451  0.856661  0.858436\n",
       "pr_auc   0.827582  0.806278   0.83077  0.833234"
      ]
     },
     "execution_count": 55,
     "metadata": {},
     "output_type": "execute_result"
    }
   ],
   "source": [
    "get_ensemble_result(ensemble_PATH= './0409_ensemble_sim_1/', data_path='./sim_data/', name='smallNormal.csv', n_models=8)"
   ]
  },
  {
   "cell_type": "code",
   "execution_count": 105,
   "metadata": {},
   "outputs": [
    {
     "data": {
      "image/png": "[encoded data removed]",
      "text/plain": [
       "<Figure size 432x288 with 1 Axes>"
      ]
     },
     "metadata": {
      "needs_background": "light"
     },
     "output_type": "display_data"
    }
   ],
   "source": [
    "plt.figure(figsize=(6,4))\n",
    "sns.boxplot(data=viz_df,x='data',y='AUCROC',color='grey')\n",
    "plt.xticks([0,1,2,3,4,5,6], ['Normal','Test1','Test2','Train1','Train2','Train3','Train4'])\n",
    "plt.scatter([0,1,2,3,4,5,6], [0.8584, 0.8711, 0.8111, 0.8733, 0.8633, 0.8599, 0.8048], c='r', s=80)\n",
    "plt.show()"
   ]
  },
  {
   "cell_type": "code",
   "execution_count": 104,
   "metadata": {},
   "outputs": [
    {
     "data": {
      "image/png": "[encoded data removed]",
      "text/plain": [
       "<Figure size 432x288 with 1 Axes>"
      ]
     },
     "metadata": {
      "needs_background": "light"
     },
     "output_type": "display_data"
    }
   ],
   "source": [
    "plt.figure(figsize=(6,4))\n",
    "sns.boxplot(data=viz_df,x='data',y='AUCPR',color='grey')\n",
    "plt.xticks([0,1,2,3,4,5,6], ['Normal','Test1','Test2','Train1','Train2','Train3','Train4'])\n",
    "plt.scatter([0,1,2,3,4,5,6], [0.8332, 0.8545, 0.7958, 0.8549, 0.8414, 0.8363, 0.7585], c='r', s=80)\n",
    "plt.show()"
   ]
  },
  {
   "cell_type": "markdown",
   "metadata": {},
   "source": [
    "# Benchmark"
   ]
  },
  {
   "cell_type": "code",
   "execution_count": 14,
   "metadata": {},
   "outputs": [
    {
     "name": "stdout",
     "output_type": "stream",
     "text": [
      "result_abalone9-18.csv\n",
      "                                                        roc_auc  pr_auc\n",
      "                                                           mean    mean\n",
      "trainer_name sampling_term sampling_ratio initial_epoch                \n",
      "BaseTrainer  0             0.00           0              0.8104  0.6478\n",
      "NewTrainer   1             0.01           5              0.8223  0.6683\n",
      "                                          20             0.8061  0.6455\n",
      "                           0.10           5              0.8313  0.6679\n",
      "                                          20             0.8086  0.6259\n",
      "             5             0.01           5              0.7990  0.6292\n",
      "                                          20             0.8168  0.6646\n",
      "                           0.10           5              0.8146  0.6408\n",
      "                                          20             0.8223  0.6540\n",
      "result_shuttle-c0-vs-c4.csv\n",
      "                                                        roc_auc pr_auc\n",
      "                                                           mean   mean\n",
      "trainer_name sampling_term sampling_ratio initial_epoch               \n",
      "BaseTrainer  0             0.00           0                 1.0    1.0\n",
      "NewTrainer   1             0.01           5                 1.0    1.0\n",
      "                                          20                1.0    1.0\n",
      "                           0.10           5                 1.0    1.0\n",
      "                                          20                1.0    1.0\n",
      "             5             0.01           5                 1.0    1.0\n",
      "                                          20                1.0    1.0\n",
      "                           0.10           5                 1.0    1.0\n",
      "                                          20                1.0    1.0\n",
      "result_vowel0.csv\n",
      "                                                        roc_auc  pr_auc\n",
      "                                                           mean    mean\n",
      "trainer_name sampling_term sampling_ratio initial_epoch                \n",
      "BaseTrainer  0             0.00           0              0.6990  0.6992\n",
      "NewTrainer   1             0.01           5              0.4652  0.4526\n",
      "                                          20             0.6728  0.5140\n",
      "                           0.10           5              0.5184  0.3774\n",
      "                                          20             0.6188  0.5332\n",
      "             5             0.01           5              0.6035  0.5499\n",
      "                                          20             0.6774  0.6630\n",
      "                           0.10           5              0.5681  0.5430\n",
      "                                          20             0.5205  0.5446\n",
      "result_wine.csv\n",
      "                                                        roc_auc  pr_auc\n",
      "                                                           mean    mean\n",
      "trainer_name sampling_term sampling_ratio initial_epoch                \n",
      "BaseTrainer  0             0.00           0              0.7003  0.4411\n",
      "NewTrainer   1             0.01           5              0.6967  0.3949\n",
      "                                          20             0.7252  0.4424\n",
      "                           0.10           5              0.6834  0.3923\n",
      "                                          20             0.7129  0.4236\n",
      "             5             0.01           5              0.6941  0.3957\n",
      "                                          20             0.7092  0.4554\n",
      "                           0.10           5              0.7233  0.4667\n",
      "                                          20             0.7126  0.4420\n",
      "result_yeast-1-2-8-9_vs_7.csv\n",
      "                                                        roc_auc  pr_auc\n",
      "                                                           mean    mean\n",
      "trainer_name sampling_term sampling_ratio initial_epoch                \n",
      "BaseTrainer  0             0.00           0              0.4674  0.1542\n",
      "NewTrainer   1             0.01           5              0.5128  0.1693\n",
      "                                          20             0.5285  0.1802\n",
      "                           0.10           5              0.5014  0.1692\n",
      "                                          20             0.4966  0.1683\n",
      "             5             0.01           5              0.4626  0.1581\n",
      "                                          20             0.5486  0.1892\n",
      "                           0.10           5              0.4981  0.1660\n",
      "                                          20             0.5517  0.1888\n",
      "result_yeast4.csv\n",
      "                                                        roc_auc  pr_auc\n",
      "                                                           mean    mean\n",
      "trainer_name sampling_term sampling_ratio initial_epoch                \n",
      "BaseTrainer  0             0.00           0              0.6876  0.2803\n",
      "NewTrainer   1             0.01           5              0.5905  0.2157\n",
      "                                          20             0.6929  0.2914\n",
      "                           0.10           5              0.6267  0.2655\n",
      "                                          20             0.6055  0.2293\n",
      "             5             0.01           5              0.6979  0.2817\n",
      "                                          20             0.6703  0.2620\n",
      "                           0.10           5              0.5685  0.2026\n",
      "                                          20             0.6187  0.2352\n",
      "result_yeast5.csv\n",
      "                                                        roc_auc  pr_auc\n",
      "                                                           mean    mean\n",
      "trainer_name sampling_term sampling_ratio initial_epoch                \n",
      "BaseTrainer  0             0.00           0              0.6472  0.2182\n",
      "NewTrainer   1             0.01           5              0.7064  0.2856\n",
      "                                          20             0.8269  0.4113\n",
      "                           0.10           5              0.9050  0.5189\n",
      "                                          20             0.6487  0.2997\n",
      "             5             0.01           5              0.5545  0.1913\n",
      "                                          20             0.7479  0.3091\n",
      "                           0.10           5              0.4447  0.1406\n",
      "                                          20             0.7323  0.3392\n",
      "result_yeast6.csv\n",
      "                                                        roc_auc  pr_auc\n",
      "                                                           mean    mean\n",
      "trainer_name sampling_term sampling_ratio initial_epoch                \n",
      "BaseTrainer  0             0.00           0              0.6241  0.1941\n",
      "NewTrainer   1             0.01           5              0.7567  0.2808\n",
      "                                          20             0.6950  0.2647\n",
      "                           0.10           5              0.6569  0.2210\n",
      "                                          20             0.7350  0.2977\n",
      "             5             0.01           5              0.7465  0.2826\n",
      "                                          20             0.6578  0.2195\n",
      "                           0.10           5              0.5623  0.1452\n",
      "                                          20             0.6388  0.2125\n"
     ]
    }
   ],
   "source": [
    "cols = ['trainer_name', 'sampling_term','sampling_ratio','initial_epoch']\n",
    "for result in os.listdir(tabular_result_path):\n",
    "    data = pd.read_csv(tabular_result_path + result)\n",
    "    print(result)\n",
    "    print(data.groupby(cols)[['roc_auc','pr_auc']].agg(['mean']))"
   ]
  },
  {
   "cell_type": "code",
   "execution_count": 71,
   "metadata": {},
   "outputs": [
    {
     "data": {
      "text/plain": [
       "['abalone9-18.csv',\n",
       " 'shuttle-c0-vs-c4.csv',\n",
       " 'vowel0.csv',\n",
       " 'wine.csv',\n",
       " 'yeast-1-2-8-9_vs_7.csv',\n",
       " 'yeast4.csv',\n",
       " 'yeast5.csv',\n",
       " 'yeast6.csv']"
      ]
     },
     "execution_count": 71,
     "metadata": {},
     "output_type": "execute_result"
    }
   ],
   "source": [
    "os.listdir('./tabular_data/')"
   ]
  },
  {
   "cell_type": "code",
   "execution_count": 74,
   "metadata": {},
   "outputs": [],
   "source": [
    "viz_df2 = pd.DataFrame(columns=['AUCROC','AUCPR','data'])\n",
    "cols = ['trainer_name', 'sampling_term','sampling_ratio','initial_epoch']\n",
    "for result in os.listdir(tabular_result_path):\n",
    "    data = pd.read_csv(tabular_result_path + result)\n",
    "    data = data.loc[data['trainer_name'] == 'NewTrainer']\n",
    "    tmp = data.groupby(cols)[['roc_auc','pr_auc']].agg(['mean'])\n",
    "    for roc, pr in zip(tmp['roc_auc'].values, tmp['pr_auc'].values):\n",
    "        viz_df2 = viz_df2.append({\n",
    "            'AUCROC': roc[0],\n",
    "            'AUCPR': pr[0],\n",
    "            'data': result\n",
    "        }, ignore_index=True)"
   ]
  },
  {
   "cell_type": "code",
   "execution_count": 88,
   "metadata": {},
   "outputs": [
    {
     "name": "stderr",
     "output_type": "stream",
     "text": [
      "<ipython-input-40-15a8bf3e8838>:27: SettingWithCopyWarning: \n",
      "A value is trying to be set on a copy of a slice from a DataFrame.\n",
      "Try using .loc[row_indexer,col_indexer] = value instead\n",
      "\n",
      "See the caveats in the documentation: https://pandas.pydata.org/pandas-docs/stable/user_guide/indexing.html#returning-a-view-versus-a-copy\n",
      "  X_test[\"label\"] = y_test\n"
     ]
    },
    {
     "data": {
      "text/html": [
       "<div>\n",
       "<style scoped>\n",
       "    .dataframe tbody tr th:only-of-type {\n",
       "        vertical-align: middle;\n",
       "    }\n",
       "\n",
       "    .dataframe tbody tr th {\n",
       "        vertical-align: top;\n",
       "    }\n",
       "\n",
       "    .dataframe thead th {\n",
       "        text-align: right;\n",
       "    }\n",
       "</style>\n",
       "<table border=\"1\" class=\"dataframe\">\n",
       "  <thead>\n",
       "    <tr style=\"text-align: right;\">\n",
       "      <th></th>\n",
       "      <th>mean</th>\n",
       "      <th>median</th>\n",
       "      <th>max</th>\n",
       "      <th>min</th>\n",
       "    </tr>\n",
       "  </thead>\n",
       "  <tbody>\n",
       "    <tr>\n",
       "      <th>roc_auc</th>\n",
       "      <td>0.642681</td>\n",
       "      <td>0.640219</td>\n",
       "      <td>0.634656</td>\n",
       "      <td>0.670588</td>\n",
       "    </tr>\n",
       "    <tr>\n",
       "      <th>pr_auc</th>\n",
       "      <td>0.253252</td>\n",
       "      <td>0.245725</td>\n",
       "      <td>0.251499</td>\n",
       "      <td>0.280948</td>\n",
       "    </tr>\n",
       "  </tbody>\n",
       "</table>\n",
       "</div>"
      ],
      "text/plain": [
       "             mean    median       max       min\n",
       "roc_auc  0.642681  0.640219  0.634656  0.670588\n",
       "pr_auc   0.253252  0.245725  0.251499  0.280948"
      ]
     },
     "execution_count": 88,
     "metadata": {},
     "output_type": "execute_result"
    }
   ],
   "source": [
    "get_ensemble_result(ensemble_PATH= './0410_ensemble_sim_1/', data_path='./tabular_data/', name=os.listdir('./tabular_data/')[5], n_models=8)"
   ]
  },
  {
   "cell_type": "code",
   "execution_count": 102,
   "metadata": {},
   "outputs": [
    {
     "data": {
      "image/png": "[encoded data removed]",
      "text/plain": [
       "<Figure size 432x288 with 1 Axes>"
      ]
     },
     "metadata": {
      "needs_background": "light"
     },
     "output_type": "display_data"
    }
   ],
   "source": [
    "plt.figure(figsize=(6,4))\n",
    "sns.boxplot(data=viz_df2,x='data',y='AUCROC',color='grey')\n",
    "plt.xticks([0,1,2,3,4,5,6,7], ['abalone', 'shuttle', 'vowel', 'wine', 'yeast1', 'yeast2', 'yeast3', 'yeast4'])\n",
    "plt.scatter([0,1,2,3,4,5,6,7], [0.8379, 1, 0.6212, 0.7259, 0.5336, 0.6706, 0.8690, 0.7332], c='r', s=80)\n",
    "plt.show()"
   ]
  },
  {
   "cell_type": "code",
   "execution_count": 103,
   "metadata": {},
   "outputs": [
    {
     "data": {
      "image/png": "[encoded data removed]",
      "text/plain": [
       "<Figure size 432x288 with 1 Axes>"
      ]
     },
     "metadata": {
      "needs_background": "light"
     },
     "output_type": "display_data"
    }
   ],
   "source": [
    "plt.figure(figsize=(6,4))\n",
    "sns.boxplot(data=viz_df2,x='data',y='AUCPR',color='grey')\n",
    "plt.xticks([0,1,2,3,4,5,6,7],['abalone', 'shuttle', 'vowel', 'wine', 'yeast1', 'yeast2', 'yeast3', 'yeast4'])\n",
    "plt.scatter([0,1,2,3,4,5,6,7], [0.6820, 1, 0.6005, 0.4702, 0.1803, 0.2809, 0.4452, 0.2898], c='r', s=80)\n",
    "plt.show()"
   ]
  }
 ],
 "metadata": {
  "interpreter": {
   "hash": "4829241e38f97ce9549fd9dd142f37034ca40da852944784ae6a4626739d5593"
  },
  "kernelspec": {
   "display_name": "Python 3.8.3 ('pytorch')",
   "language": "python",
   "name": "python3"
  },
  "language_info": {
   "codemirror_mode": {
    "name": "ipython",
    "version": 3
   },
   "file_extension": ".py",
   "mimetype": "text/x-python",
   "name": "python",
   "nbconvert_exporter": "python",
   "pygments_lexer": "ipython3",
   "version": "3.8.3"
  },
  "orig_nbformat": 4
 },
 "nbformat": 4,
 "nbformat_minor": 2
}
