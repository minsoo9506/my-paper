{
 "cells": [
  {
   "cell_type": "code",
   "execution_count": 5,
   "metadata": {},
   "outputs": [],
   "source": [
    "import pandas as pd\n",
    "import matplotlib.pyplot as plt\n",
    "import numpy as np"
   ]
  },
  {
   "cell_type": "code",
   "execution_count": 6,
   "metadata": {},
   "outputs": [],
   "source": [
    "import os\n",
    "\n",
    "PATH = 'UCR_Anomaly_FullData/'\n",
    "file_list = os.listdir(PATH)\n",
    "file_list_py = [file for file in file_list if file.endswith('.txt')]"
   ]
  },
  {
   "cell_type": "code",
   "execution_count": 14,
   "metadata": {},
   "outputs": [
    {
     "data": {
      "text/plain": [
       "['026_UCR_Anomaly_DISTORTEDInternalBleeding15_1700_5684_5854.txt',\n",
       " '028_UCR_Anomaly_DISTORTEDInternalBleeding17_1600_3198_3309.txt',\n",
       " '029_UCR_Anomaly_DISTORTEDInternalBleeding18_2300_4485_4587.txt',\n",
       " '031_UCR_Anomaly_DISTORTEDInternalBleeding20_2700_5759_5919.txt',\n",
       " '032_UCR_Anomaly_DISTORTEDInternalBleeding4_1000_4675_5033.txt',\n",
       " '033_UCR_Anomaly_DISTORTEDInternalBleeding5_4000_6200_6370.txt',\n",
       " '034_UCR_Anomaly_DISTORTEDInternalBleeding6_1500_3474_3629.txt',\n",
       " '035_UCR_Anomaly_DISTORTEDInternalBleeding8_2500_5865_5974.txt',\n",
       " '053_UCR_Anomaly_DISTORTEDWalkingAceleration1_1500_2764_2995.txt',\n",
       " '099_UCR_Anomaly_NOISEInternalBleeding6_1500_3474_3629.txt',\n",
       " '134_UCR_Anomaly_InternalBleeding15_1700_5684_5854.txt',\n",
       " '136_UCR_Anomaly_InternalBleeding17_1600_3198_3309.txt',\n",
       " '137_UCR_Anomaly_InternalBleeding18_2300_4485_4587.txt',\n",
       " '139_UCR_Anomaly_InternalBleeding20_2700_5759_5919.txt',\n",
       " '140_UCR_Anomaly_InternalBleeding4_1000_4675_5033.txt',\n",
       " '141_UCR_Anomaly_InternalBleeding5_4000_6200_6370.txt',\n",
       " '142_UCR_Anomaly_InternalBleeding6_1500_3474_3629.txt',\n",
       " '143_UCR_Anomaly_InternalBleeding8_2500_5865_5974.txt',\n",
       " '161_UCR_Anomaly_WalkingAceleration1_1500_2764_2995.txt',\n",
       " '225_UCR_Anomaly_mit14046longtermecg_81214_143000_143300.txt',\n",
       " '226_UCR_Anomaly_mit14046longtermecg_96123_123000_123300.txt',\n",
       " '242_UCR_Anomaly_tilt12744mtable_100000_104630_104890.txt']"
      ]
     },
     "execution_count": 14,
     "metadata": {},
     "output_type": "execute_result"
    }
   ],
   "source": [
    "use_ts_data = []\n",
    "for file_name in file_list_py:\n",
    "    df = pd.read_csv(PATH + file_name, header=None)\n",
    "    splited_file_name = file_name.split('_')\n",
    "    anomaly_start, anomaly_end = int(splited_file_name[5]), int(splited_file_name[6].split('.')[0])\n",
    "    if (len(df) < 10000) & (anomaly_end - anomaly_start > 100):\n",
    "        use_ts_data.append(file_name)\n",
    "use_ts_data\n",
    "    "
   ]
  },
  {
   "cell_type": "code",
   "execution_count": 16,
   "metadata": {},
   "outputs": [],
   "source": [
    "import shutil\n",
    "for file_name in use_ts_data:\n",
    "    shutil.copy('UCR_Anomaly_FullData/' + file_name, 'time_series_data/')"
   ]
  },
  {
   "cell_type": "code",
   "execution_count": 2,
   "metadata": {},
   "outputs": [
    {
     "data": {
      "text/plain": [
       "['abalone19.csv',\n",
       " 'abalone9-18.csv',\n",
       " 'ecoli-0-1-3-7_vs_2-6.csv',\n",
       " 'ecoli4.csv',\n",
       " 'glass-0-1-6_vs_2.csv',\n",
       " 'glass-0-1-6_vs_5.csv',\n",
       " 'glass2.csv',\n",
       " 'glass4.csv',\n",
       " 'glass5.csv',\n",
       " 'page-blocks-1-3_vs_4.csv',\n",
       " 'shuttle-c0-vs-c4.csv',\n",
       " 'shuttle-c2-vs-c4.csv',\n",
       " 'vowel0.csv',\n",
       " 'wine.csv',\n",
       " 'yeast-1-2-8-9_vs_7.csv',\n",
       " 'yeast-1-4-5-8_vs_7.csv',\n",
       " 'yeast-1_vs_7.csv',\n",
       " 'yeast-2_vs_8.csv',\n",
       " 'yeast4.csv',\n",
       " 'yeast5.csv',\n",
       " 'yeast6.csv']"
      ]
     },
     "execution_count": 2,
     "metadata": {},
     "output_type": "execute_result"
    }
   ],
   "source": [
    "import os\n",
    "\n",
    "PATH = 'tabular_data'\n",
    "file_list = os.listdir(PATH)\n",
    "file_list_py = [file for file in file_list if file.endswith('.csv')]\n",
    "file_list_py"
   ]
  },
  {
   "cell_type": "markdown",
   "metadata": {},
   "source": [
    "- abalone19, abalone9-18 : `Sex` 컬럼 0, 1로 바꾸기\n",
    "- wine : `quality` 컬럼 4이하면 1, 나머지 0 으로 바꾸기"
   ]
  },
  {
   "cell_type": "code",
   "execution_count": null,
   "metadata": {},
   "outputs": [],
   "source": [
    "for file_name in file_list_py:\n",
    "    df = pd.read_csv('tabular_data/' + file_name)\n",
    "    if (file_name == 'abalone19.csv') or (file_name == 'abalone9-18.csv'):\n",
    "        df['Sex'] = np.where(df['Sex'] == 'F', 1, 0)\n",
    "        df['label'] = np.where(df['label'] == 'positive', 1, 0)\n",
    "    elif file_name == 'wine.csv':\n",
    "        df['quality'] = np.where(df['quality'] <= 4, 1, 0)\n",
    "        df.rename(columns={'quality':'label'}, inplace=True)\n",
    "    else:\n",
    "        df['label'] = np.where(df['label'] == 'positive', 1, 0)\n",
    "    df.to_csv('tabular_data/' + file_name, index=False)"
   ]
  }
 ],
 "metadata": {
  "interpreter": {
   "hash": "4829241e38f97ce9549fd9dd142f37034ca40da852944784ae6a4626739d5593"
  },
  "kernelspec": {
   "display_name": "Python 3.8.3 64-bit ('pytorch': conda)",
   "language": "python",
   "name": "python3"
  },
  "language_info": {
   "codemirror_mode": {
    "name": "ipython",
    "version": 3
   },
   "file_extension": ".py",
   "mimetype": "text/x-python",
   "name": "python",
   "nbconvert_exporter": "python",
   "pygments_lexer": "ipython3",
   "version": "3.8.3"
  },
  "orig_nbformat": 4
 },
 "nbformat": 4,
 "nbformat_minor": 2
}
