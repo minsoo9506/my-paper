{
 "cells": [
  {
   "cell_type": "markdown",
   "metadata": {},
   "source": [
    "# topDown\n",
    "- train\n",
    "  - ratio: 0.1, weight: 0.01만 하자\n",
    "- t-sne를 통한 epoch에 따른 변화\n",
    "- epoch마다 sampled data에 실제 noise가 얼마나 들어있는지"
   ]
  },
  {
   "cell_type": "markdown",
   "metadata": {},
   "source": [
    "## 1. T-sne를 통한 epoch에 따른 sampled data 변화\n",
    "- noise\n",
    "  - ratio, weight 마다 확인\n",
    "\n",
    "잘된 케이스 시각화"
   ]
  },
  {
   "cell_type": "code",
   "execution_count": 1,
   "metadata": {},
   "outputs": [],
   "source": [
    "from sklearn.manifold import TSNE\n",
    "import pickle\n",
    "import pandas as pd\n",
    "import numpy as np\n",
    "import matplotlib.pyplot as plt"
   ]
  },
  {
   "cell_type": "code",
   "execution_count": 69,
   "metadata": {},
   "outputs": [],
   "source": [
    "# from sklearn.preprocessing import StandardScaler\n",
    "# from sklearn.model_selection import train_test_split\n",
    "\n",
    "# def _normalize_tabular(df: pd.DataFrame, label_name: str = \"label\"):\n",
    "#     scaler = StandardScaler()\n",
    "#     X = scaler.fit_transform(df.drop(label_name, axis=1))\n",
    "#     y = df[label_name]\n",
    "#     return X, y\n",
    "\n",
    "# def simul_split_train_valid_test(df: pd.DataFrame, train_ratio: float = 0.7):\n",
    "#     X, y = _normalize_tabular(df)\n",
    "#     tmp = pd.DataFrame(X)\n",
    "#     tmp[\"label\"] = y\n",
    "#     normal = tmp.loc[tmp[\"label\"] == 0, :].reset_index(drop=True)\n",
    "#     abnormal = tmp.loc[tmp[\"label\"] == 1, :].reset_index(drop=True)\n",
    "#     X_train, X_val_test, y_train, y_val_test = train_test_split(\n",
    "#         normal.drop(\"label\", axis=1),\n",
    "#         normal[\"label\"],\n",
    "#         train_size=train_ratio,\n",
    "#         random_state=42,\n",
    "#         shuffle=False,\n",
    "#     )\n",
    "    \n",
    "#     X_val, X_test, y_val, y_test = train_test_split(\n",
    "#         X_val_test, y_val_test, train_size=0.5, random_state=42, shuffle=False\n",
    "#     )\n",
    "#     X_test[\"label\"] = y_test\n",
    "#     X_test = pd.concat([X_test, abnormal]).reset_index(drop=True)\n",
    "#     return (\n",
    "#         X_train.values,\n",
    "#         X_val.values,\n",
    "#         X_test.drop(\"label\", axis=1).values,\n",
    "#         y_train.values,\n",
    "#         y_val.values,\n",
    "#         X_test[\"label\"].values,\n",
    "#     )"
   ]
  },
  {
   "cell_type": "code",
   "execution_count": 71,
   "metadata": {},
   "outputs": [
    {
     "name": "stderr",
     "output_type": "stream",
     "text": [
      "<ipython-input-69-c9eb5218e970>:27: SettingWithCopyWarning: \n",
      "A value is trying to be set on a copy of a slice from a DataFrame.\n",
      "Try using .loc[row_indexer,col_indexer] = value instead\n",
      "\n",
      "See the caveats in the documentation: https://pandas.pydata.org/pandas-docs/stable/user_guide/indexing.html#returning-a-view-versus-a-copy\n",
      "  X_test[\"label\"] = y_test\n"
     ]
    }
   ],
   "source": [
    "# data = pd.read_csv('./sim_data/smallTrainNoise_010_09.csv')\n",
    "\n",
    "# (\n",
    "#     train_x,\n",
    "#     _,\n",
    "#     _,\n",
    "#     _,\n",
    "#     _,\n",
    "#     _,\n",
    "# ) = simul_split_train_valid_test(data, 0.7)"
   ]
  },
  {
   "cell_type": "code",
   "execution_count": 87,
   "metadata": {},
   "outputs": [],
   "source": [
    "# X_tsne = TSNE(n_components=2).fit_transform(train_x)"
   ]
  },
  {
   "cell_type": "code",
   "execution_count": 93,
   "metadata": {},
   "outputs": [
    {
     "data": {
      "text/plain": [
       "['newDown_smallTrainNoise_010_09_h2_st1_sr0.1_ie20_0.pickle',\n",
       " 'newDown_smallTrainNoise_010_09_h2_st1_sr0.1_ie5_0.pickle',\n",
       " 'newDown_smallTrainNoise_010_09_h2_st5_sr0.1_ie20_0.pickle',\n",
       " 'newDown_smallTrainNoise_010_09_h2_st5_sr0.1_ie5_0.pickle']"
      ]
     },
     "execution_count": 93,
     "metadata": {},
     "output_type": "execute_result"
    }
   ],
   "source": [
    "# down_pickle_name = [data for data in os.listdir('./run_result_sim_down') if 'smallTrainNoise_010_09' in data]\n",
    "# down_pickle_name"
   ]
  },
  {
   "cell_type": "code",
   "execution_count": 94,
   "metadata": {},
   "outputs": [
    {
     "data": {
      "text/plain": [
       "['newTop_smallTrainNoise_010_09_h2_st1_sr0.1_ie20_0.pickle',\n",
       " 'newTop_smallTrainNoise_010_09_h2_st1_sr0.1_ie5_0.pickle',\n",
       " 'newTop_smallTrainNoise_010_09_h2_st5_sr0.1_ie20_0.pickle',\n",
       " 'newTop_smallTrainNoise_010_09_h2_st5_sr0.1_ie5_0.pickle']"
      ]
     },
     "execution_count": 94,
     "metadata": {},
     "output_type": "execute_result"
    }
   ],
   "source": [
    "# top_pickle_name = [data for data in os.listdir('./run_result_sim_top') if 'smallTrainNoise_010_09' in data]\n",
    "# top_pickle_name"
   ]
  },
  {
   "cell_type": "code",
   "execution_count": 95,
   "metadata": {},
   "outputs": [],
   "source": [
    "# down_data_name = down_pickle_name[0]\n",
    "# with open('./run_result_sim_down/' + down_data_name, 'rb') as f:\n",
    "#     down = pickle.load(f)\n",
    "    \n",
    "# top_data_name = top_pickle_name[0]\n",
    "# with open('./run_result_sim_top/' + top_data_name, 'rb') as f:\n",
    "#     top = pickle.load(f)"
   ]
  },
  {
   "cell_type": "code",
   "execution_count": 108,
   "metadata": {},
   "outputs": [],
   "source": [
    "# def show_top_down(epoch, train_x, down, top, X_tsne, figsize=(16,5)):\n",
    "#     idx = epoch\n",
    "#     plt.subplots(1,2, figsize=figsize)\n",
    "\n",
    "#     color = np.zeros(len(train_x))\n",
    "#     color= pd.Series(color)\n",
    "#     color[down[:, idx]] = 1\n",
    "#     plt.subplot(121)\n",
    "#     plt.scatter(X_tsne[:, 0], X_tsne[:, 1], c=color)\n",
    "#     plt.title(f'NewTrainer in epoch={idx}, high recon-error data (yellow)')\n",
    "\n",
    "#     color = np.zeros(len(train_x))\n",
    "#     color= pd.Series(color)\n",
    "#     color[top[:, idx]] = 1\n",
    "#     plt.subplot(122)\n",
    "#     plt.scatter(X_tsne[:, 0], X_tsne[:, 1], c=color)\n",
    "#     plt.title(f'NewTrainer in epoch={idx}, low recon-error data (yellow)')"
   ]
  },
  {
   "cell_type": "markdown",
   "metadata": {},
   "source": [
    "## 2. epoch마다 sampled data에 실제 noise가 얼마나 들어있는지\n",
    "\n",
    "- epoch 500으로 진행한 경우 평균내기\n",
    "\n",
    "잘된 경우 시각화해서 사용"
   ]
  },
  {
   "cell_type": "code",
   "execution_count": 2,
   "metadata": {},
   "outputs": [
    {
     "data": {
      "text/plain": [
       "['newDown_smallTrainNoise_001_01_h2_st1_sr0.01_ie20_0.pickle',\n",
       " 'newDown_smallTrainNoise_001_01_h2_st1_sr0.01_ie5_0.pickle',\n",
       " 'newDown_smallTrainNoise_001_01_h2_st5_sr0.01_ie20_0.pickle',\n",
       " 'newDown_smallTrainNoise_001_01_h2_st5_sr0.01_ie5_0.pickle',\n",
       " 'newDown_smallTrainNoise_001_09_h2_st1_sr0.01_ie20_0.pickle',\n",
       " 'newDown_smallTrainNoise_001_09_h2_st1_sr0.01_ie5_0.pickle',\n",
       " 'newDown_smallTrainNoise_001_09_h2_st5_sr0.01_ie20_0.pickle',\n",
       " 'newDown_smallTrainNoise_001_09_h2_st5_sr0.01_ie5_0.pickle',\n",
       " 'newDown_smallTrainNoise_010_01_h2_st1_sr0.1_ie20_0.pickle',\n",
       " 'newDown_smallTrainNoise_010_01_h2_st1_sr0.1_ie5_0.pickle',\n",
       " 'newDown_smallTrainNoise_010_01_h2_st5_sr0.1_ie20_0.pickle',\n",
       " 'newDown_smallTrainNoise_010_01_h2_st5_sr0.1_ie5_0.pickle',\n",
       " 'newDown_smallTrainNoise_010_09_h2_st1_sr0.1_ie20_0.pickle',\n",
       " 'newDown_smallTrainNoise_010_09_h2_st1_sr0.1_ie5_0.pickle',\n",
       " 'newDown_smallTrainNoise_010_09_h2_st5_sr0.1_ie20_0.pickle',\n",
       " 'newDown_smallTrainNoise_010_09_h2_st5_sr0.1_ie5_0.pickle',\n",
       " 'newDown_viz2D_h2_st1_sr0.01_ie20_0.pickle',\n",
       " 'newDown_viz2D_h2_st1_sr0.01_ie5_0.pickle',\n",
       " 'newDown_viz2D_h2_st1_sr0.1_ie20_0.pickle',\n",
       " 'newDown_viz2D_h2_st1_sr0.1_ie5_0.pickle',\n",
       " 'newDown_viz2D_h2_st5_sr0.01_ie20_0.pickle',\n",
       " 'newDown_viz2D_h2_st5_sr0.01_ie5_0.pickle',\n",
       " 'newDown_viz2D_h2_st5_sr0.1_ie20_0.pickle',\n",
       " 'newDown_viz2D_h2_st5_sr0.1_ie5_0.pickle',\n",
       " 'newDown_viz_h2_st1_sr0.01_ie20_0.pickle',\n",
       " 'newDown_viz_h2_st1_sr0.01_ie5_0.pickle',\n",
       " 'newDown_viz_h2_st1_sr0.1_ie20_0.pickle',\n",
       " 'newDown_viz_h2_st1_sr0.1_ie5_0.pickle',\n",
       " 'newDown_viz_h2_st5_sr0.01_ie20_0.pickle',\n",
       " 'newDown_viz_h2_st5_sr0.01_ie5_0.pickle',\n",
       " 'newDown_viz_h2_st5_sr0.1_ie20_0.pickle',\n",
       " 'newDown_viz_h2_st5_sr0.1_ie5_0.pickle']"
      ]
     },
     "execution_count": 2,
     "metadata": {},
     "output_type": "execute_result"
    }
   ],
   "source": [
    "import os\n",
    "\n",
    "os.listdir('./run_result_sim_down')"
   ]
  },
  {
   "cell_type": "code",
   "execution_count": 7,
   "metadata": {},
   "outputs": [],
   "source": [
    "with open('./sim_data/smallTrainNoise_010_09.pickle', 'rb') as f:\n",
    "    noise_010_09 = pickle.load(f)\n",
    "\n",
    "with open('./run_result_sim_down/newDown_smallTrainNoise_010_09_h2_st1_sr0.1_ie20_0.pickle', 'rb') as f:\n",
    "    down_010_09 = pickle.load(f)"
   ]
  },
  {
   "cell_type": "code",
   "execution_count": 9,
   "metadata": {},
   "outputs": [
    {
     "data": {
      "text/plain": [
       "array([11646.,  9935., 13731., ..., 10875.,  3157.,  5458.])"
      ]
     },
     "execution_count": 9,
     "metadata": {},
     "output_type": "execute_result"
    }
   ],
   "source": [
    "down_010_09[:, 100]"
   ]
  },
  {
   "cell_type": "code",
   "execution_count": 4,
   "metadata": {},
   "outputs": [
    {
     "data": {
      "text/plain": [
       "array([13766, 24956, 15388, ..., 19210,   899,  4098])"
      ]
     },
     "execution_count": 4,
     "metadata": {},
     "output_type": "execute_result"
    }
   ],
   "source": [
    "noise_010_09"
   ]
  },
  {
   "cell_type": "code",
   "execution_count": 6,
   "metadata": {},
   "outputs": [
    {
     "data": {
      "text/plain": [
       "(2303,)"
      ]
     },
     "execution_count": 6,
     "metadata": {},
     "output_type": "execute_result"
    }
   ],
   "source": [
    "noise_010_09.shape"
   ]
  },
  {
   "cell_type": "code",
   "execution_count": 17,
   "metadata": {},
   "outputs": [],
   "source": [
    "down_001_01 = np.zeros((500,))\n",
    "down_001_09 = np.zeros((500,))\n",
    "down_010_01 = np.zeros((500,))\n",
    "down_010_09 = np.zeros((500,))"
   ]
  },
  {
   "cell_type": "code",
   "execution_count": 64,
   "metadata": {},
   "outputs": [],
   "source": [
    "def show_down(down, noise_idx, sampling_ratio):\n",
    "    # down에 포함된 noise의 수\n",
    "    total_count = []\n",
    "    for epoch in range(down.shape[1]):\n",
    "        count = 0\n",
    "        for d in down[:, epoch]:\n",
    "            if d in noise_idx:\n",
    "                count += 1\n",
    "        total_count.append(count)\n",
    "    # 매 epoch마다 뽑힌 niose의 비율\n",
    "    x = np.array(total_count) / int(down.shape[0] / sampling_ratio)\n",
    "    return x"
   ]
  },
  {
   "cell_type": "code",
   "execution_count": 65,
   "metadata": {},
   "outputs": [],
   "source": [
    "with open('./sim_data/smallTrainNoise_001_01.pickle', 'rb') as f:\n",
    "    noise_001_01 = pickle.load(f)\n",
    "with open('./sim_data/smallTrainNoise_001_09.pickle', 'rb') as f:\n",
    "    noise_001_09 = pickle.load(f)\n",
    "with open('./sim_data/smallTrainNoise_010_01.pickle', 'rb') as f:\n",
    "    noise_010_01 = pickle.load(f)\n",
    "with open('./sim_data/smallTrainNoise_010_09.pickle', 'rb') as f:\n",
    "    noise_010_09 = pickle.load(f)\n",
    "    \n",
    "for data in [data for data in os.listdir('./run_result_sim_down') if 'smallTrainNoise_001_01' in data]:\n",
    "    with open('./run_result_sim_down/' + data, 'rb') as f:\n",
    "        tmp = pickle.load(f)\n",
    "    x = show_down(tmp, noise_001_01, 0.01)\n",
    "    down_001_01 += x / 4.0\n",
    "    \n",
    "for data in [data for data in os.listdir('./run_result_sim_down') if 'smallTrainNoise_001_09' in data]:\n",
    "    with open('./run_result_sim_down/' + data, 'rb') as f:\n",
    "        tmp = pickle.load(f)\n",
    "    x = show_down(tmp, noise_001_09, 0.01)\n",
    "    down_001_09 += x / 4.0\n",
    "    \n",
    "for data in [data for data in os.listdir('./run_result_sim_down') if 'smallTrainNoise_010_01' in data]:\n",
    "    with open('./run_result_sim_down/' + data, 'rb') as f:\n",
    "        tmp = pickle.load(f)\n",
    "    x = show_down(tmp, noise_010_01, 0.1)\n",
    "    down_010_01 += x / 4.0\n",
    "    \n",
    "for data in [data for data in os.listdir('./run_result_sim_down') if 'smallTrainNoise_010_09' in data]:\n",
    "    with open('./run_result_sim_down/' + data, 'rb') as f:\n",
    "        tmp = pickle.load(f)\n",
    "    x = show_down(tmp, noise_010_09, 0.1)\n",
    "    down_010_09 += x / 4.0\n"
   ]
  },
  {
   "cell_type": "code",
   "execution_count": 66,
   "metadata": {},
   "outputs": [
    {
     "data": {
      "text/plain": [
       "Text(0.5, 1.0, 'Sampled-out noise ratio in 4 data concept')"
      ]
     },
     "execution_count": 66,
     "metadata": {},
     "output_type": "execute_result"
    },
    {
     "data": {
      "image/png": "[encoded data removed]",
      "text/plain": [
       "<Figure size 504x504 with 1 Axes>"
      ]
     },
     "metadata": {
      "needs_background": "light"
     },
     "output_type": "display_data"
    }
   ],
   "source": [
    "\n",
    "fig, ax = plt.subplots(figsize=(7,7))\n",
    "ax.plot(down_010_09)\n",
    "ax.plot(down_010_01)\n",
    "ax.plot(down_001_09)\n",
    "ax.plot(down_001_01)\n",
    "ax.legend(['ratio=0.1, weight=0.9', 'ratio=0.1, weight=0.1', 'ratio=0.01, weight=0.9', 'ratio=0.01, weight=0.1'])\n",
    "ax.spines['top'].set_visible(False)\n",
    "ax.spines['right'].set_visible(False)\n",
    "ax.set_xlabel('epochs')\n",
    "ax.set_ylabel('sampled-out noise ratio')\n",
    "plt.title('Sampled-out noise ratio in 4 data concept')"
   ]
  }
 ],
 "metadata": {
  "interpreter": {
   "hash": "293971f99652c580801fd8f597325a7ede04683af9d68bbec19f338bda4e954c"
  },
  "kernelspec": {
   "display_name": "Python 3.8.3 ('pytorch')",
   "language": "python",
   "name": "python3"
  },
  "language_info": {
   "codemirror_mode": {
    "name": "ipython",
    "version": 3
   },
   "file_extension": ".py",
   "mimetype": "text/x-python",
   "name": "python",
   "nbconvert_exporter": "python",
   "pygments_lexer": "ipython3",
   "version": "3.8.3"
  },
  "orig_nbformat": 4
 },
 "nbformat": 4,
 "nbformat_minor": 2
}
