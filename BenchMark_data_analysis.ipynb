{
 "cells": [
  {
   "cell_type": "code",
   "execution_count": 2,
   "metadata": {},
   "outputs": [],
   "source": [
    "import os\n",
    "import pandas as pd\n",
    "import numpy as np"
   ]
  },
  {
   "cell_type": "markdown",
   "metadata": {},
   "source": [
    "IR =  proportion samples in the number of majority class (negative class) to the number of minority class (positive class)"
   ]
  },
  {
   "cell_type": "code",
   "execution_count": 9,
   "metadata": {},
   "outputs": [
    {
     "name": "stdout",
     "output_type": "stream",
     "text": [
      "abalone9-18.csv.shape = (731, 9), IR=16\n",
      "shuttle-c0-vs-c4.csv.shape = (1829, 10), IR=13\n",
      "vowel0.csv.shape = (988, 14), IR=9\n",
      "wine.csv.shape = (4898, 12), IR=25\n",
      "yeast-1-2-8-9_vs_7.csv.shape = (947, 9), IR=30\n",
      "yeast4.csv.shape = (1484, 9), IR=28\n",
      "yeast5.csv.shape = (1484, 9), IR=32\n",
      "yeast6.csv.shape = (1484, 9), IR=41\n"
     ]
    }
   ],
   "source": [
    "for data_name in os.listdir('./tabular_data'):\n",
    "    tmp = pd.read_csv('./tabular_data/' + data_name)\n",
    "    IR =  len(tmp.loc[tmp['label']==0, :]) // len(tmp.loc[tmp['label']==1, :])\n",
    "    print(f'{data_name}.shape = {tmp.shape}, IR={IR}')"
   ]
  },
  {
   "cell_type": "code",
   "execution_count": 11,
   "metadata": {},
   "outputs": [
    {
     "name": "stdout",
     "output_type": "stream",
     "text": [
      "137_UCR_Anomaly_InternalBleeding18_2300_4485_4587.txt.shape = 7440, IR = 32\n",
      "139_UCR_Anomaly_InternalBleeding20_2700_5759_5919.txt.shape = 7440, IR = 25\n",
      "141_UCR_Anomaly_InternalBleeding5_4000_6200_6370.txt.shape = 7355, IR = 24\n",
      "143_UCR_Anomaly_InternalBleeding8_2500_5865_5974.txt.shape = 7441, IR = 31\n"
     ]
    }
   ],
   "source": [
    "for data_name in os.listdir('./time_series_data'):\n",
    "    tmp = pd.read_csv('./time_series_data/' + data_name)\n",
    "    total_len = tmp.shape[0] - 60 + 1\n",
    "    splited = data_name.split('.')[0].split('_')\n",
    "    anomaly_len = int(splited[-1]) - int(splited[-2]) + 59 * 2\n",
    "    IR = (total_len - anomaly_len) // anomaly_len\n",
    "    print(f'{data_name}.shape = {total_len}, IR = {IR}')"
   ]
  }
 ],
 "metadata": {
  "interpreter": {
   "hash": "4829241e38f97ce9549fd9dd142f37034ca40da852944784ae6a4626739d5593"
  },
  "kernelspec": {
   "display_name": "Python 3.8.3 ('pytorch')",
   "language": "python",
   "name": "python3"
  },
  "language_info": {
   "codemirror_mode": {
    "name": "ipython",
    "version": 3
   },
   "file_extension": ".py",
   "mimetype": "text/x-python",
   "name": "python",
   "nbconvert_exporter": "python",
   "pygments_lexer": "ipython3",
   "version": "3.8.3"
  },
  "orig_nbformat": 4
 },
 "nbformat": 4,
 "nbformat_minor": 2
}
